{
  "nbformat": 4,
  "nbformat_minor": 0,
  "metadata": {
    "colab": {
      "name": "Neural Machine Translation",
      "version": "0.3.2",
      "provenance": [],
      "collapsed_sections": [],
      "include_colab_link": true
    },
    "kernelspec": {
      "name": "python3",
      "display_name": "Python 3"
    },
    "accelerator": "GPU"
  },
  "cells": [
    {
      "cell_type": "markdown",
      "metadata": {
        "id": "view-in-github",
        "colab_type": "text"
      },
      "source": [
        "<a href=\"https://colab.research.google.com/github/suneetsawant/Neural-Machine-Translation/blob/master/Neural_Machine_Translation.ipynb\" target=\"_parent\"><img src=\"https://colab.research.google.com/assets/colab-badge.svg\" alt=\"Open In Colab\"/></a>"
      ]
    },
    {
      "metadata": {
        "id": "quiFlxb4hWJO",
        "colab_type": "text"
      },
      "cell_type": "markdown",
      "source": [
        "# Neural Machine Translation Using Attention \n",
        "\n",
        "This notebook covers implementation of converting English to  French using  Neural Network incorporated with attention mechanism .\n",
        "\n",
        "\n",
        "\n",
        "\n"
      ]
    },
    {
      "metadata": {
        "id": "tyF7ka4WjWin",
        "colab_type": "text"
      },
      "cell_type": "markdown",
      "source": [
        "## Import all neccessary libraries \n",
        "\n",
        "1. Tensorflow, Keras for implementing neural network architecture \n",
        "2. Pydrive to save-restore model on google drive \n",
        "3. NLTK to calculate BLEU Scores "
      ]
    },
    {
      "metadata": {
        "id": "Iag0EDGQ_i-m",
        "colab_type": "code",
        "outputId": "cb71b533-6080-4662-ef90-1188b535df5a",
        "colab": {
          "base_uri": "https://localhost:8080/",
          "height": 350
        }
      },
      "cell_type": "code",
      "source": [
        "!pip install -U nltk   ## Updated nltk library for computing BLEU Scores\n",
        "import numpy as np \n",
        "import pandas as pd \n",
        "import tensorflow as tf\n",
        " \n",
        "from tensorflow.keras.preprocessing.text import Tokenizer\n",
        "import re\n",
        "import pickle\n",
        "from tensorflow.keras.preprocessing.sequence import pad_sequences\n",
        "from tensorflow.keras.layers import Input, Dense,GRU,Embedding,GlobalMaxPooling2D,Dropout,add,CuDNNGRU,Activation\n",
        "\n",
        "from tensorflow.keras.layers import Bidirectional, Concatenate, Permute, Dot, Input, LSTM, Multiply,RepeatVector,Lambda,Reshape\n",
        "from tensorflow.keras.activations import softmax\n",
        "from tensorflow.keras.models import load_model, Model\n",
        "import keras as K\n",
        "from tensorflow.keras import optimizers\n",
        "from tensorflow.keras.utils import to_categorical\n",
        "import unicodedata\n",
        "import sys\n",
        "import gc\n",
        "import re\n",
        "import numpy as np\n",
        "import os\n",
        "import time\n",
        "import nltk\n",
        "\n",
        "%matplotlib inline\n",
        "import matplotlib.pyplot as plt\n",
        "\n",
        "\n",
        "tf.enable_eager_execution()\n",
        "!pip install -U -q PyDrive     ##### For saving-downloading model to google drive\n",
        "\n",
        "from pydrive.auth import GoogleAuth\n",
        "from pydrive.drive import GoogleDrive\n",
        "from google.colab import auth\n",
        "from oauth2client.client import GoogleCredentials\n",
        "class Drive():   \n",
        "  def __init__(self) :  \n",
        "    auth.authenticate_user()\n",
        "    gauth = GoogleAuth()\n",
        "    gauth.credentials = GoogleCredentials.get_application_default()\n",
        "    self.drive = GoogleDrive(gauth)\n",
        "\n",
        "\n",
        "  def fileaction(self,files,op='up') : \n",
        "    file_list = self.drive.ListFile({'q': \"'root' in parents and trashed=false\"}).GetList()\n",
        "    for filename in files:\n",
        "      flag = 0 \n",
        "\n",
        "      for file1 in file_list:\n",
        "        if (file1['title']) == filename :\n",
        "            if (op == 'up'and flag==0) : \n",
        "                file1.Delete()\n",
        "                self.upload(filename)\n",
        "                flag = 1\n",
        "\n",
        "            elif (op == 'down') : \n",
        "                self.download(filename,file1) \n",
        "\n",
        "      if(op=='up' and flag==0): \n",
        "            self.upload(filename)\n",
        "            flag = 1\n",
        "\n",
        "  def upload(self,filename) : \n",
        "      Uploadfile = self.drive.CreateFile({'title': filename})\n",
        "      Uploadfile.SetContentFile(filename)\n",
        "      Uploadfile.Upload()\n",
        "      print(\"Saved '{}' to Drive\".format(filename))\n",
        "\n",
        "  def download(self,filename,file1): \n",
        "      downloaded = self.drive.CreateFile({'id':file1['id']})\n",
        "      downloaded.GetContentFile(filename)\n",
        "      print(\"Downloaded '{}' from Drive\".format(filename))\n",
        "\n"
      ],
      "execution_count": 0,
      "outputs": [
        {
          "output_type": "stream",
          "text": [
            "Collecting nltk\n",
            "\u001b[?25l  Downloading https://files.pythonhosted.org/packages/6f/ed/9c755d357d33bc1931e157f537721efb5b88d2c583fe593cc09603076cc3/nltk-3.4.zip (1.4MB)\n",
            "\r\u001b[K    0% |▎                               | 10kB 17.9MB/s eta 0:00:01\r\u001b[K    1% |▌                               | 20kB 1.7MB/s eta 0:00:01\r\u001b[K    2% |▊                               | 30kB 2.5MB/s eta 0:00:01\r\u001b[K    2% |█                               | 40kB 1.7MB/s eta 0:00:01\r\u001b[K    3% |█▏                              | 51kB 2.1MB/s eta 0:00:01\r\u001b[K    4% |█▍                              | 61kB 2.5MB/s eta 0:00:01\r\u001b[K    5% |█▋                              | 71kB 2.9MB/s eta 0:00:01\r\u001b[K    5% |█▉                              | 81kB 3.3MB/s eta 0:00:01\r\u001b[K    6% |██                              | 92kB 3.6MB/s eta 0:00:01\r\u001b[K    7% |██▎                             | 102kB 2.8MB/s eta 0:00:01\r\u001b[K    7% |██▌                             | 112kB 2.8MB/s eta 0:00:01\r\u001b[K    8% |██▊                             | 122kB 4.0MB/s eta 0:00:01\r\u001b[K    9% |███                             | 133kB 4.0MB/s eta 0:00:01\r\u001b[K    10% |███▏                            | 143kB 7.5MB/s eta 0:00:01\r\u001b[K    10% |███▍                            | 153kB 7.5MB/s eta 0:00:01\r\u001b[K    11% |███▋                            | 163kB 7.4MB/s eta 0:00:01\r\u001b[K    12% |████                            | 174kB 7.4MB/s eta 0:00:01\r\u001b[K    12% |████▏                           | 184kB 7.4MB/s eta 0:00:01\r\u001b[K    13% |████▍                           | 194kB 7.4MB/s eta 0:00:01\r\u001b[K    14% |████▋                           | 204kB 36.2MB/s eta 0:00:01\r\u001b[K    15% |████▉                           | 215kB 8.4MB/s eta 0:00:01\r\u001b[K    15% |█████                           | 225kB 8.4MB/s eta 0:00:01\r\u001b[K    16% |█████▎                          | 235kB 8.4MB/s eta 0:00:01\r\u001b[K    17% |█████▌                          | 245kB 8.5MB/s eta 0:00:01\r\u001b[K    17% |█████▊                          | 256kB 8.5MB/s eta 0:00:01\r\u001b[K    18% |██████                          | 266kB 8.4MB/s eta 0:00:01\r\u001b[K    19% |██████▏                         | 276kB 8.6MB/s eta 0:00:01\r\u001b[K    20% |██████▍                         | 286kB 8.7MB/s eta 0:00:01\r\u001b[K    20% |██████▋                         | 296kB 8.6MB/s eta 0:00:01\r\u001b[K    21% |██████▉                         | 307kB 8.9MB/s eta 0:00:01\r\u001b[K    22% |███████                         | 317kB 49.6MB/s eta 0:00:01\r\u001b[K    22% |███████▎                        | 327kB 52.3MB/s eta 0:00:01\r\u001b[K    23% |███████▌                        | 337kB 54.8MB/s eta 0:00:01\r\u001b[K    24% |███████▉                        | 348kB 49.0MB/s eta 0:00:01\r\u001b[K    25% |████████                        | 358kB 48.5MB/s eta 0:00:01\r\u001b[K    25% |████████▎                       | 368kB 53.2MB/s eta 0:00:01\r\u001b[K    26% |████████▌                       | 378kB 53.1MB/s eta 0:00:01\r\u001b[K    27% |████████▊                       | 389kB 55.0MB/s eta 0:00:01\r\u001b[K    27% |█████████                       | 399kB 9.4MB/s eta 0:00:01\r\u001b[K    28% |█████████▏                      | 409kB 9.4MB/s eta 0:00:01\r\u001b[K    29% |█████████▍                      | 419kB 9.4MB/s eta 0:00:01\r\u001b[K    30% |█████████▋                      | 430kB 9.3MB/s eta 0:00:01\r\u001b[K    30% |█████████▉                      | 440kB 9.3MB/s eta 0:00:01\r\u001b[K    31% |██████████                      | 450kB 9.4MB/s eta 0:00:01\r\u001b[K    32% |██████████▎                     | 460kB 9.3MB/s eta 0:00:01\r\u001b[K    32% |██████████▌                     | 471kB 9.3MB/s eta 0:00:01\r\u001b[K    33% |██████████▊                     | 481kB 9.3MB/s eta 0:00:01\r\u001b[K    34% |███████████                     | 491kB 9.3MB/s eta 0:00:01\r\u001b[K    35% |███████████▏                    | 501kB 50.6MB/s eta 0:00:01\r\u001b[K    35% |███████████▍                    | 512kB 46.1MB/s eta 0:00:01\r\u001b[K    36% |███████████▊                    | 522kB 47.2MB/s eta 0:00:01\r\u001b[K    37% |████████████                    | 532kB 48.5MB/s eta 0:00:01\r\u001b[K    37% |████████████▏                   | 542kB 48.4MB/s eta 0:00:01\r\u001b[K    38% |████████████▍                   | 552kB 52.4MB/s eta 0:00:01\r\u001b[K    39% |████████████▋                   | 563kB 54.8MB/s eta 0:00:01\r\u001b[K    40% |████████████▉                   | 573kB 55.1MB/s eta 0:00:01\r\u001b[K    40% |█████████████                   | 583kB 57.0MB/s eta 0:00:01\r\u001b[K    41% |█████████████▎                  | 593kB 56.5MB/s eta 0:00:01\r\u001b[K    42% |█████████████▌                  | 604kB 56.5MB/s eta 0:00:01\r\u001b[K    42% |█████████████▊                  | 614kB 63.7MB/s eta 0:00:01\r\u001b[K    43% |██████████████                  | 624kB 61.5MB/s eta 0:00:01\r\u001b[K    44% |██████████████▏                 | 634kB 58.8MB/s eta 0:00:01\r\u001b[K    45% |██████████████▍                 | 645kB 58.6MB/s eta 0:00:01\r\u001b[K    45% |██████████████▋                 | 655kB 56.7MB/s eta 0:00:01\r\u001b[K    46% |██████████████▉                 | 665kB 46.5MB/s eta 0:00:01\r\u001b[K    47% |███████████████                 | 675kB 46.4MB/s eta 0:00:01\r\u001b[K    47% |███████████████▎                | 686kB 46.3MB/s eta 0:00:01\r\u001b[K    48% |███████████████▋                | 696kB 46.3MB/s eta 0:00:01\r\u001b[K    49% |███████████████▉                | 706kB 44.7MB/s eta 0:00:01\r\u001b[K    50% |████████████████                | 716kB 45.8MB/s eta 0:00:01\r\u001b[K    50% |████████████████▎               | 727kB 46.4MB/s eta 0:00:01\r\u001b[K    51% |████████████████▌               | 737kB 48.4MB/s eta 0:00:01\r\u001b[K    52% |████████████████▊               | 747kB 49.2MB/s eta 0:00:01\r\u001b[K    52% |█████████████████               | 757kB 49.8MB/s eta 0:00:01\r\u001b[K    53% |█████████████████▏              | 768kB 62.3MB/s eta 0:00:01\r\u001b[K    54% |█████████████████▍              | 778kB 62.1MB/s eta 0:00:01\r\u001b[K    55% |█████████████████▋              | 788kB 60.8MB/s eta 0:00:01\r\u001b[K    55% |█████████████████▉              | 798kB 61.9MB/s eta 0:00:01\r\u001b[K    56% |██████████████████              | 808kB 16.5MB/s eta 0:00:01\r\u001b[K    57% |██████████████████▎             | 819kB 16.3MB/s eta 0:00:01\r\u001b[K    57% |██████████████████▌             | 829kB 16.3MB/s eta 0:00:01\r\u001b[K    58% |██████████████████▊             | 839kB 16.4MB/s eta 0:00:01\r\u001b[K    59% |███████████████████             | 849kB 16.4MB/s eta 0:00:01\r\u001b[K    60% |███████████████████▏            | 860kB 15.9MB/s eta 0:00:01\r\u001b[K    60% |███████████████████▌            | 870kB 15.6MB/s eta 0:00:01\r\u001b[K    61% |███████████████████▊            | 880kB 15.6MB/s eta 0:00:01\r\u001b[K    62% |████████████████████            | 890kB 15.7MB/s eta 0:00:01\r\u001b[K    62% |████████████████████▏           | 901kB 15.7MB/s eta 0:00:01\r\u001b[K    63% |████████████████████▍           | 911kB 54.2MB/s eta 0:00:01\r\u001b[K    64% |████████████████████▋           | 921kB 56.1MB/s eta 0:00:01\r\u001b[K    65% |████████████████████▉           | 931kB 56.8MB/s eta 0:00:01\r\u001b[K    65% |█████████████████████           | 942kB 56.9MB/s eta 0:00:01\r\u001b[K    66% |█████████████████████▎          | 952kB 56.6MB/s eta 0:00:01\r\u001b[K    67% |█████████████████████▌          | 962kB 64.3MB/s eta 0:00:01\r\u001b[K    67% |█████████████████████▊          | 972kB 68.3MB/s eta 0:00:01\r\u001b[K    68% |██████████████████████          | 983kB 69.4MB/s eta 0:00:01\r\u001b[K    69% |██████████████████████▏         | 993kB 69.8MB/s eta 0:00:01\r\u001b[K    70% |██████████████████████▍         | 1.0MB 70.5MB/s eta 0:00:01\r\u001b[K    70% |██████████████████████▋         | 1.0MB 70.2MB/s eta 0:00:01\r\u001b[K    71% |██████████████████████▉         | 1.0MB 69.9MB/s eta 0:00:01\r\u001b[K    72% |███████████████████████▏        | 1.0MB 69.1MB/s eta 0:00:01\r\u001b[K    72% |███████████████████████▍        | 1.0MB 69.6MB/s eta 0:00:01\r\u001b[K    73% |███████████████████████▋        | 1.1MB 70.2MB/s eta 0:00:01\r\u001b[K    74% |███████████████████████▉        | 1.1MB 64.8MB/s eta 0:00:01\r\u001b[K    75% |████████████████████████        | 1.1MB 60.7MB/s eta 0:00:01\r\u001b[K    75% |████████████████████████▎       | 1.1MB 61.0MB/s eta 0:00:01\r\u001b[K    76% |████████████████████████▌       | 1.1MB 50.5MB/s eta 0:00:01\r\u001b[K    77% |████████████████████████▊       | 1.1MB 50.2MB/s eta 0:00:01\r\u001b[K    77% |█████████████████████████       | 1.1MB 49.6MB/s eta 0:00:01\r\u001b[K    78% |█████████████████████████▏      | 1.1MB 49.9MB/s eta 0:00:01\r\u001b[K    79% |█████████████████████████▍      | 1.1MB 48.3MB/s eta 0:00:01\r\u001b[K    80% |█████████████████████████▋      | 1.1MB 47.5MB/s eta 0:00:01\r\u001b[K    80% |█████████████████████████▉      | 1.2MB 47.4MB/s eta 0:00:01\r\u001b[K    81% |██████████████████████████      | 1.2MB 12.4MB/s eta 0:00:01\r\u001b[K    82% |██████████████████████████▎     | 1.2MB 12.5MB/s eta 0:00:01\r\u001b[K    82% |██████████████████████████▌     | 1.2MB 12.5MB/s eta 0:00:01\r\u001b[K    83% |██████████████████████████▊     | 1.2MB 13.0MB/s eta 0:00:01\r\u001b[K    84% |███████████████████████████     | 1.2MB 13.0MB/s eta 0:00:01\r\u001b[K    85% |███████████████████████████▎    | 1.2MB 13.0MB/s eta 0:00:01\r\u001b[K    85% |███████████████████████████▌    | 1.2MB 13.0MB/s eta 0:00:01\r\u001b[K    86% |███████████████████████████▊    | 1.2MB 13.1MB/s eta 0:00:01\r\u001b[K    87% |████████████████████████████    | 1.2MB 13.1MB/s eta 0:00:01\r\u001b[K    87% |████████████████████████████▏   | 1.3MB 13.0MB/s eta 0:00:01\r\u001b[K    88% |████████████████████████████▍   | 1.3MB 59.7MB/s eta 0:00:01\r\u001b[K    89% |████████████████████████████▋   | 1.3MB 58.3MB/s eta 0:00:01\r\u001b[K    90% |████████████████████████████▉   | 1.3MB 59.4MB/s eta 0:00:01\r\u001b[K    90% |█████████████████████████████   | 1.3MB 59.8MB/s eta 0:00:01\r\u001b[K    91% |█████████████████████████████▎  | 1.3MB 58.9MB/s eta 0:00:01\r\u001b[K    92% |█████████████████████████████▌  | 1.3MB 59.9MB/s eta 0:00:01\r\u001b[K    92% |█████████████████████████████▊  | 1.3MB 59.9MB/s eta 0:00:01\r\u001b[K    93% |██████████████████████████████  | 1.3MB 58.5MB/s eta 0:00:01\r\u001b[K    94% |██████████████████████████████▏ | 1.4MB 60.1MB/s eta 0:00:01\r\u001b[K    95% |██████████████████████████████▍ | 1.4MB 59.6MB/s eta 0:00:01\r\u001b[K    95% |██████████████████████████████▋ | 1.4MB 61.5MB/s eta 0:00:01\r\u001b[K    96% |███████████████████████████████ | 1.4MB 62.6MB/s eta 0:00:01\r\u001b[K    97% |███████████████████████████████▏| 1.4MB 61.9MB/s eta 0:00:01\r\u001b[K    97% |███████████████████████████████▍| 1.4MB 40.0MB/s eta 0:00:01\r\u001b[K    98% |███████████████████████████████▋| 1.4MB 39.7MB/s eta 0:00:01\r\u001b[K    99% |███████████████████████████████▉| 1.4MB 39.5MB/s eta 0:00:01\r\u001b[K    100% |████████████████████████████████| 1.4MB 16.5MB/s \n",
            "\u001b[?25hRequirement already satisfied, skipping upgrade: six in /usr/local/lib/python3.6/dist-packages (from nltk) (1.11.0)\n",
            "Collecting singledispatch (from nltk)\n",
            "  Downloading https://files.pythonhosted.org/packages/c5/10/369f50bcd4621b263927b0a1519987a04383d4a98fb10438042ad410cf88/singledispatch-3.4.0.3-py2.py3-none-any.whl\n",
            "Building wheels for collected packages: nltk\n",
            "  Building wheel for nltk (setup.py) ... \u001b[?25ldone\n",
            "\u001b[?25h  Stored in directory: /root/.cache/pip/wheels/4b/c8/24/b2343664bcceb7147efeb21c0b23703a05b23fcfeaceaa2a1e\n",
            "Successfully built nltk\n",
            "Installing collected packages: singledispatch, nltk\n",
            "  Found existing installation: nltk 3.2.5\n",
            "    Uninstalling nltk-3.2.5:\n",
            "      Successfully uninstalled nltk-3.2.5\n",
            "Successfully installed nltk-3.4 singledispatch-3.4.0.3\n"
          ],
          "name": "stdout"
        },
        {
          "output_type": "stream",
          "text": [
            "Using TensorFlow backend.\n"
          ],
          "name": "stderr"
        },
        {
          "output_type": "stream",
          "text": [
            "\u001b[?25l\r\u001b[K    1% |▎                               | 10kB 19.5MB/s eta 0:00:01\r\u001b[K    2% |▋                               | 20kB 1.5MB/s eta 0:00:01\r\u001b[K    3% |█                               | 30kB 2.3MB/s eta 0:00:01\r\u001b[K    4% |█▎                              | 40kB 1.6MB/s eta 0:00:01\r\u001b[K    5% |█▋                              | 51kB 1.9MB/s eta 0:00:01\r\u001b[K    6% |██                              | 61kB 2.3MB/s eta 0:00:01\r\u001b[K    7% |██▎                             | 71kB 2.7MB/s eta 0:00:01\r\u001b[K    8% |██▋                             | 81kB 3.0MB/s eta 0:00:01\r\u001b[K    9% |███                             | 92kB 3.4MB/s eta 0:00:01\r\u001b[K    10% |███▎                            | 102kB 2.6MB/s eta 0:00:01\r\u001b[K    11% |███▋                            | 112kB 2.6MB/s eta 0:00:01\r\u001b[K    12% |████                            | 122kB 3.9MB/s eta 0:00:01\r\u001b[K    13% |████▎                           | 133kB 3.8MB/s eta 0:00:01\r\u001b[K    14% |████▋                           | 143kB 7.2MB/s eta 0:00:01\r\u001b[K    15% |█████                           | 153kB 7.2MB/s eta 0:00:01\r\u001b[K    16% |█████▎                          | 163kB 7.0MB/s eta 0:00:01\r\u001b[K    17% |█████▋                          | 174kB 6.7MB/s eta 0:00:01\r\u001b[K    18% |██████                          | 184kB 6.6MB/s eta 0:00:01\r\u001b[K    19% |██████▎                         | 194kB 6.5MB/s eta 0:00:01\r\u001b[K    20% |██████▋                         | 204kB 21.7MB/s eta 0:00:01\r\u001b[K    21% |███████                         | 215kB 8.2MB/s eta 0:00:01\r\u001b[K    22% |███████▎                        | 225kB 8.2MB/s eta 0:00:01\r\u001b[K    23% |███████▋                        | 235kB 8.3MB/s eta 0:00:01\r\u001b[K    24% |████████                        | 245kB 8.3MB/s eta 0:00:01\r\u001b[K    25% |████████▎                       | 256kB 8.4MB/s eta 0:00:01\r\u001b[K    26% |████████▋                       | 266kB 8.4MB/s eta 0:00:01\r\u001b[K    27% |█████████                       | 276kB 9.0MB/s eta 0:00:01\r\u001b[K    29% |█████████▎                      | 286kB 9.2MB/s eta 0:00:01\r\u001b[K    30% |█████████▋                      | 296kB 9.5MB/s eta 0:00:01\r\u001b[K    31% |██████████                      | 307kB 10.0MB/s eta 0:00:01\r\u001b[K    32% |██████████▎                     | 317kB 45.2MB/s eta 0:00:01\r\u001b[K    33% |██████████▋                     | 327kB 45.3MB/s eta 0:00:01\r\u001b[K    34% |███████████                     | 337kB 46.4MB/s eta 0:00:01\r\u001b[K    35% |███████████▎                    | 348kB 42.4MB/s eta 0:00:01\r\u001b[K    36% |███████████▋                    | 358kB 40.3MB/s eta 0:00:01\r\u001b[K    37% |████████████                    | 368kB 45.8MB/s eta 0:00:01\r\u001b[K    38% |████████████▎                   | 378kB 45.9MB/s eta 0:00:01\r\u001b[K    39% |████████████▋                   | 389kB 46.0MB/s eta 0:00:01\r\u001b[K    40% |█████████████                   | 399kB 9.1MB/s eta 0:00:01\r\u001b[K    41% |█████████████▎                  | 409kB 9.1MB/s eta 0:00:01\r\u001b[K    42% |█████████████▋                  | 419kB 8.9MB/s eta 0:00:01\r\u001b[K    43% |██████████████                  | 430kB 8.9MB/s eta 0:00:01\r\u001b[K    44% |██████████████▎                 | 440kB 8.9MB/s eta 0:00:01\r\u001b[K    45% |██████████████▋                 | 450kB 9.0MB/s eta 0:00:01\r\u001b[K    46% |███████████████                 | 460kB 9.0MB/s eta 0:00:01\r\u001b[K    47% |███████████████▎                | 471kB 9.0MB/s eta 0:00:01\r\u001b[K    48% |███████████████▋                | 481kB 9.0MB/s eta 0:00:01\r\u001b[K    49% |████████████████                | 491kB 9.0MB/s eta 0:00:01\r\u001b[K    50% |████████████████▎               | 501kB 42.9MB/s eta 0:00:01\r\u001b[K    51% |████████████████▋               | 512kB 41.5MB/s eta 0:00:01\r\u001b[K    52% |█████████████████               | 522kB 44.8MB/s eta 0:00:01\r\u001b[K    53% |█████████████████▎              | 532kB 47.0MB/s eta 0:00:01\r\u001b[K    54% |█████████████████▋              | 542kB 47.8MB/s eta 0:00:01\r\u001b[K    55% |██████████████████              | 552kB 50.9MB/s eta 0:00:01\r\u001b[K    57% |██████████████████▎             | 563kB 51.1MB/s eta 0:00:01\r\u001b[K    58% |██████████████████▋             | 573kB 49.2MB/s eta 0:00:01\r\u001b[K    59% |███████████████████             | 583kB 49.9MB/s eta 0:00:01\r\u001b[K    60% |███████████████████▎            | 593kB 49.8MB/s eta 0:00:01\r\u001b[K    61% |███████████████████▋            | 604kB 50.7MB/s eta 0:00:01\r\u001b[K    62% |████████████████████            | 614kB 54.8MB/s eta 0:00:01\r\u001b[K    63% |████████████████████▎           | 624kB 54.2MB/s eta 0:00:01\r\u001b[K    64% |████████████████████▋           | 634kB 53.0MB/s eta 0:00:01\r\u001b[K    65% |█████████████████████           | 645kB 51.7MB/s eta 0:00:01\r\u001b[K    66% |█████████████████████▎          | 655kB 49.6MB/s eta 0:00:01\r\u001b[K    67% |█████████████████████▋          | 665kB 37.8MB/s eta 0:00:01\r\u001b[K    68% |██████████████████████          | 675kB 11.4MB/s eta 0:00:01\r\u001b[K    69% |██████████████████████▎         | 686kB 11.3MB/s eta 0:00:01\r\u001b[K    70% |██████████████████████▋         | 696kB 11.3MB/s eta 0:00:01\r\u001b[K    71% |███████████████████████         | 706kB 11.3MB/s eta 0:00:01\r\u001b[K    72% |███████████████████████▎        | 716kB 11.3MB/s eta 0:00:01\r\u001b[K    73% |███████████████████████▋        | 727kB 11.2MB/s eta 0:00:01\r\u001b[K    74% |████████████████████████        | 737kB 11.2MB/s eta 0:00:01\r\u001b[K    75% |████████████████████████▎       | 747kB 11.2MB/s eta 0:00:01\r\u001b[K    76% |████████████████████████▋       | 757kB 11.3MB/s eta 0:00:01\r\u001b[K    77% |████████████████████████▉       | 768kB 12.2MB/s eta 0:00:01\r\u001b[K    78% |█████████████████████████▏      | 778kB 47.9MB/s eta 0:00:01\r\u001b[K    79% |█████████████████████████▌      | 788kB 49.2MB/s eta 0:00:01\r\u001b[K    80% |█████████████████████████▉      | 798kB 50.6MB/s eta 0:00:01\r\u001b[K    81% |██████████████████████████▏     | 808kB 50.8MB/s eta 0:00:01\r\u001b[K    82% |██████████████████████████▌     | 819kB 50.9MB/s eta 0:00:01\r\u001b[K    83% |██████████████████████████▉     | 829kB 52.8MB/s eta 0:00:01\r\u001b[K    85% |███████████████████████████▏    | 839kB 52.3MB/s eta 0:00:01\r\u001b[K    86% |███████████████████████████▌    | 849kB 53.0MB/s eta 0:00:01\r\u001b[K    87% |███████████████████████████▉    | 860kB 49.5MB/s eta 0:00:01\r\u001b[K    88% |████████████████████████████▏   | 870kB 48.9MB/s eta 0:00:01\r\u001b[K    89% |████████████████████████████▌   | 880kB 50.1MB/s eta 0:00:01\r\u001b[K    90% |████████████████████████████▉   | 890kB 51.1MB/s eta 0:00:01\r\u001b[K    91% |█████████████████████████████▏  | 901kB 50.9MB/s eta 0:00:01\r\u001b[K    92% |█████████████████████████████▌  | 911kB 51.3MB/s eta 0:00:01\r\u001b[K    93% |█████████████████████████████▉  | 921kB 50.4MB/s eta 0:00:01\r\u001b[K    94% |██████████████████████████████▏ | 931kB 50.9MB/s eta 0:00:01\r\u001b[K    95% |██████████████████████████████▌ | 942kB 52.1MB/s eta 0:00:01\r\u001b[K    96% |██████████████████████████████▉ | 952kB 51.2MB/s eta 0:00:01\r\u001b[K    97% |███████████████████████████████▏| 962kB 55.6MB/s eta 0:00:01\r\u001b[K    98% |███████████████████████████████▌| 972kB 56.4MB/s eta 0:00:01\r\u001b[K    99% |███████████████████████████████▉| 983kB 56.0MB/s eta 0:00:01\r\u001b[K    100% |████████████████████████████████| 993kB 20.6MB/s \n",
            "\u001b[?25h  Building wheel for PyDrive (setup.py) ... \u001b[?25ldone\n",
            "\u001b[?25h"
          ],
          "name": "stdout"
        }
      ]
    },
    {
      "metadata": {
        "id": "qYPIT5A8lQT9",
        "colab_type": "text"
      },
      "cell_type": "markdown",
      "source": [
        "## Download Data \n",
        "\n",
        "The dataset for training can be found [here](https://download.pytorch.org/tutorial/data.zip). The trick mentioned in [fast ai forums](https://forums.fast.ai/t/request-curl-from-chrome/6816/7) has been used to download the data directly to colab instance."
      ]
    },
    {
      "metadata": {
        "id": "_UzfhFaQmFaw",
        "colab_type": "code",
        "colab": {}
      },
      "cell_type": "code",
      "source": [
        "!wget --header=\"Host: download.pytorch.org\" --header=\"User-Agent: Mozilla/5.0 (Macintosh; Intel Mac OS X 10_14_3) AppleWebKit/537.36 (KHTML, like Gecko) Chrome/72.0.3626.119 Safari/537.36\" --header=\"Accept: text/html,application/xhtml+xml,application/xml;q=0.9,image/webp,image/apng,*/*;q=0.8\" --header=\"Accept-Language: en-US,en;q=0.9\" --header=\"Referer: https://pytorch.org/tutorials/intermediate/seq2seq_translation_tutorial.html\" --header=\"Cookie: _ga=GA1.2.1452943855.1552129267; _gid=GA1.2.24346264.1552129267\" --header=\"Connection: keep-alive\" \"https://download.pytorch.org/tutorial/data.zip\" -O \"data.zip\" -c\n",
        "!unzip data.zip"
      ],
      "execution_count": 0,
      "outputs": []
    },
    {
      "metadata": {
        "id": "BUyAWy-dnFSX",
        "colab_type": "text"
      },
      "cell_type": "markdown",
      "source": [
        "## PreProcess Downloaded Data\n",
        "1.  Adding start and end of the sentence tags\n",
        "2. Creating english and french tokenizers \n",
        "3. Dividing the data into training, test, validation sets \n",
        "4. Saving all the data(with divisions) as dictionary to drive for future use.  \n",
        "\n",
        "Note: This is all one time process. The data will be downloaded for training whenever required. This helps us in maintaining the same training and validation data for training as the dataset divisions are randomized."
      ]
    },
    {
      "metadata": {
        "id": "cuFcq-dpq9UD",
        "colab_type": "code",
        "outputId": "cfe021d1-6a12-4636-af4f-7497d3eb5de0",
        "colab": {
          "base_uri": "https://localhost:8080/",
          "height": 106
        }
      },
      "cell_type": "code",
      "source": [
        "## Helper functions for preprocessing \n",
        "def process_Data(data,sequence_length):\n",
        "        tokenizer = Tokenizer(oov_token='UNK',num_words = 1e4)\n",
        "        tokenizer.fit_on_texts(data) \n",
        "        data_clean = tokenizer.texts_to_sequences(data)\n",
        "        data_clean = pad_sequences(data_clean,sequence_length,padding='post')\n",
        "\n",
        "        return data_clean,tokenizer\n",
        "  \n",
        "def read_data(filename):\n",
        "  with open(filename, mode='rt', encoding='utf-8') as file:  \n",
        "          dataF = file.read() \n",
        "          dataF = dataF.strip().split('\\n')\n",
        "          eng = []\n",
        "          french = []\n",
        "          for sentence in dataF: \n",
        "              split_sentence = sentence.strip().split('\\t')\n",
        "              sentence = \"strr \" + normalizeString(split_sentence[0])+ \" endd\"\n",
        "              sentence = re.sub('\\d+','num',sentence) \n",
        "\n",
        "              eng.append(sentence)\n",
        "\n",
        "              sentence = \"strr \" + normalizeString(split_sentence[1])+ \" endd\"\n",
        "              sentence = re.sub('\\d+','num',sentence) \n",
        "\n",
        "              french.append(sentence) \n",
        "  return eng,french       \n",
        "def unicodeToAscii(s):\n",
        "    return ''.join(\n",
        "        c for c in unicodedata.normalize('NFD', s)\n",
        "        if unicodedata.category(c) != 'Mn'\n",
        "    )\n",
        "\n",
        "# Lowercase, trim, and remove non-letter characters\n",
        "\n",
        "\n",
        "def normalizeString(s):\n",
        "    s = unicodeToAscii(s.lower().strip())\n",
        "    s = re.sub(r\"([.!?])\", r\" \\1\", s)\n",
        "    s = re.sub(r\"[^a-zA-Z.!?]+\", r\" \", s)\n",
        "    \n",
        "    return s   \n",
        "\n",
        "  \n",
        "###----------------------Pre-Processing Data ----------------------------------------#####\n",
        "\n",
        "\n",
        "sequence_length = 40\n",
        "english_Data,french_Data = read_data(\"data/eng-fra.txt\")\n",
        "eng_data, eng_tokenizer = process_Data(english_Data,sequence_length)\n",
        "french_data, french_tokenizer = process_Data(french_Data,sequence_length)\n",
        "\n",
        "\n",
        "data = {}\n",
        "data['eng_tokenizer']    = eng_tokenizer\n",
        "data['french_tokenizer'] = french_tokenizer\n",
        "\n",
        "x = len(eng_data)\n",
        "train_idx = np.array(np.random.choice(np.arange(x),int(0.8*x),replace=False))\n",
        "val_idx = np.array(np.random.choice(list(set(np.arange(x))-set(train_idx)),int(0.1*x),replace=False)) \n",
        "test_idx = list(set(np.arange(x))-set(train_idx)-set(val_idx))\n",
        "print(train_idx,val_idx,test_idx)\n",
        "\n",
        "\n",
        "data['eng_data_train'] = eng_data[train_idx]\n",
        "data['eng_data_val'] = eng_data[val_idx]\n",
        "data['eng_data_test'] = eng_data[test_idx]  \n",
        "\n",
        "data['french_data_train'] = french_data[train_idx]\n",
        "data['french_data_val'] = french_data[val_idx]\n",
        "data['french_data_test'] = french_data[test_idx]  \n",
        "\n",
        "\n",
        "with open(\"data.pkl\", 'wb') as f:  \n",
        "        pickle.dump(data, f)\n",
        "!ls\n",
        "Drive().fileaction(['data.pkl'],'up')  ## Upload the preprocess Data to drive \n"
      ],
      "execution_count": 0,
      "outputs": [
        {
          "output_type": "stream",
          "text": [
            "[ 25034 118229  87680 ... 101026  77543 104600] [107152  39831  85160 ...  82626  87745  78961] [65537, 131074, 65541, 98313, 131083, 13, 32782, 65550, 131088, 18, 131091, 32787, 98324, 98328, 65561, 98330, 131099, 32796, 29, 98333, 98334, 98335, 32804, 98340, 98347, 98348, 32815, 65585, 32821, 65592, 65594, 65595, 61, 65597, 65598, 131136, 32834, 98374, 65607, 131145, 32846, 32848, 65622, 65624, 89, 98394, 131167, 32865, 98404, 105, 65641, 107, 32876, 98414, 32879, 131184, 32880, 131189, 118, 65653, 32889, 131194, 98425, 125, 65662, 98430, 135, 98440, 131210, 131215, 131220, 152, 131227, 32933, 98471, 169, 131241, 131246, 32942, 176, 65713, 98481, 65720, 131262, 32958, 193, 65732, 199, 98505, 131274, 131277, 98511, 98512, 32980, 32985, 32988, 32989, 222, 65757, 32995, 131302, 98535, 65768, 131312, 244, 65781, 131318, 33014, 65784, 131321, 98548, 98550, 33020, 98553, 254, 65791, 98559, 131329, 259, 65797, 262, 98567, 65801, 33035, 98572, 33037, 270, 271, 98577, 276, 131348, 33044, 98584, 33049, 289, 98595, 65832, 131369, 65834, 65835, 98606, 65839, 65843, 65849, 315, 98625, 98626, 98628, 131397, 98629, 131402, 338, 98645, 98650, 131419, 33115, 65885, 33120, 65888, 33122, 33127, 65895, 131434, 65898, 364, 98669, 131440, 33137, 98672, 372, 373, 131447, 131450, 98682, 98691, 131462, 392, 393, 131466, 131467, 33164, 65931, 131470, 65932, 401, 131473, 403, 33170, 65941, 131478, 407, 98709, 33179, 33182, 131487, 416, 98721, 131490, 65956, 98724, 33194, 428, 432, 131505, 131506, 131509, 33207, 65977, 98745, 33211, 98747, 33213, 448, 65987, 33222, 33224, 65992, 33227, 461, 33230, 65998, 66000, 66001, 98771, 33236, 98775, 33240, 66010, 33244, 131553, 66019, 33253, 66021, 33255, 131562, 33259, 494, 33271, 66040, 131577, 33274, 507, 33275, 98808, 66046, 98817, 98819, 131589, 98823, 33288, 131594, 131596, 33292, 527, 528, 66065, 532, 131604, 131605, 131608, 98844, 131613, 542, 543, 33316, 33319, 98857, 131626, 555, 33323, 33324, 33325, 559, 66093, 98861, 98862, 66106, 572, 66112, 577, 131651, 98883, 581, 98887, 585, 98889, 131661, 98894, 33361, 33362, 600, 98906, 98911, 66144, 98918, 131687, 98919, 33385, 33390, 66160, 625, 628, 131700, 33398, 33400, 131708, 33405, 640, 98953, 131722, 653, 33421, 655, 66190, 98960, 660, 662, 66199, 664, 33435, 131741, 66205, 131745, 131746, 675, 33444, 33445, 66209, 33447, 131752, 66212, 66215, 66216, 66217, 131757, 131758, 98984, 691, 131766, 131770, 131773, 66237, 33473, 99009, 711, 99018, 33483, 99021, 66254, 131791, 720, 33488, 99028, 66263, 131800, 729, 66270, 99039, 99040, 131809, 739, 66276, 741, 745, 99051, 66284, 752, 99058, 131829, 99064, 764, 66300, 131838, 99073, 131842, 33538, 99075, 131847, 778, 131851, 33547, 783, 784, 99088, 786, 66322, 99093, 99094, 99097, 99100, 33565, 66334, 66336, 131879, 66344, 131883, 33580, 66347, 66348, 131890, 819, 33587, 66354, 33591, 825, 131900, 131901, 99134, 832, 66369, 33602, 99139, 33604, 33605, 99144, 844, 847, 850, 131927, 66397, 66399, 99170, 868, 66405, 33639, 66408, 99178, 66411, 131952, 888, 99193, 131969, 899, 66435, 33671, 99207, 131979, 33682, 33684, 917, 33685, 922, 66460, 99228, 131998, 33695, 66466, 132003, 132004, 934, 99239, 132008, 66475, 33711, 945, 33713, 33715, 132020, 132022, 33723, 132028, 99260, 99262, 66497, 132041, 970, 971, 99275, 33747, 980, 66515, 33751, 33754, 99295, 992, 33760, 66528, 99298, 996, 99302, 999, 132071, 66539, 1004, 1005, 1007, 1008, 132081, 33778, 132084, 132085, 132086, 66551, 99317, 1017, 33785, 66554, 33790, 99326, 66563, 1029, 33797, 99334, 99335, 1036, 66573, 132110, 33806, 66576, 132113, 1047, 132122, 33818, 132125, 99358, 33823, 66594, 1067, 132140, 66604, 132142, 1071, 132144, 33840, 99377, 33844, 132157, 1089, 66626, 99402, 66635, 99403, 1106, 66642, 66643, 99414, 132186, 132189, 132191, 66655, 99425, 132194, 33890, 33892, 66658, 99426, 99427, 99429, 66665, 132208, 66673, 99441, 132212, 132215, 33912, 132219, 132221, 66689, 132226, 33926, 99462, 66700, 99468, 99469, 132245, 1175, 33943, 132249, 132252, 33948, 33954, 99492, 132262, 99497, 66731, 1197, 132270, 132272, 1201, 132273, 1203, 99505, 33975, 1213, 33982, 1215, 1218, 33987, 99529, 1227, 1231, 66769, 99539, 132308, 132309, 1238, 1239, 99545, 66778, 132315, 99547, 34013, 66782, 132319, 99548, 99554, 34020, 99557, 34022, 132330, 132335, 66801, 1266, 66808, 99577, 99582, 99584, 99588, 132357, 34055, 66823, 1290, 1291, 34059, 66829, 99598, 66833, 99602, 1302, 132375, 66839, 99608, 99616, 132385, 99618, 132387, 34085, 66854, 99625, 66858, 1324, 66860, 99629, 1331, 34101, 1334, 1336, 1342, 99648, 1346, 132420, 132421, 34116, 66885, 34120, 34121, 99659, 132429, 34131, 1364, 1365, 132439, 132443, 1373, 66914, 66917, 132454, 66921, 34155, 1388, 1390, 66929, 66936, 132473, 132476, 34172, 66942, 66954, 1419, 34187, 132493, 132494, 1425, 1426, 34194, 66963, 1429, 66965, 99729, 132504, 99735, 132507, 99742, 34207, 34214, 99752, 1449, 132522, 99754, 132524, 132527, 66992, 1459, 1465, 34235, 1469, 67009, 1475, 67011, 67014, 1482, 34252, 67023, 99795, 132567, 34264, 67032, 1498, 34267, 67033, 67036, 34278, 67046, 1512, 34280, 67052, 1517, 99824, 1522, 67058, 1524, 67061, 132598, 132599, 34298, 1531, 1532, 34307, 67075, 1541, 67077, 1543, 132616, 132617, 34313, 67079, 132620, 67081, 34318, 67084, 99860, 99861, 34327, 1563, 132640, 99872, 34343, 67112, 34345, 67116, 34355, 67124, 132663, 67127, 67130, 34363, 1596, 67132, 67135, 132672, 132673, 99904, 34375, 1610, 67149, 132686, 99925, 132698, 132699, 1628, 34396, 99936, 1633, 34402, 1636, 99942, 67175, 34409, 132713, 1643, 67180, 1645, 132717, 1648, 132723, 99956, 1653, 34424, 67192, 34427, 67196, 67198, 34432, 132739, 34436, 132742, 34439, 132744, 99980, 132751, 67216, 99986, 132755, 67219, 1688, 1693, 1694, 132767, 34464, 1697, 1698, 67231, 1701, 132775, 100014, 1711, 132783, 1714, 1715, 34482, 1719, 100024, 34491, 132799, 132805, 67269, 34503, 34506, 132810, 67276, 34509, 1741, 1742, 132814, 1745, 67279, 1747, 1748, 34515, 34516, 34520, 132825, 100058, 100059, 67293, 1760, 34530, 132835, 132838, 1767, 34534, 67304, 67305, 132844, 67308, 34544, 132851, 1780, 100084, 1782, 34555, 132860, 1792, 100096, 132866, 34563, 1796, 67332, 100098, 100100, 34568, 67338, 67339, 67345, 34578, 67350, 1821, 67361, 34596, 34597, 34598, 67366, 132904, 34601, 132907, 34605, 34608, 67376, 132921, 100153, 132925, 1855, 1863, 132935, 100168, 100171, 100174, 100177, 132946, 100185, 67418, 100186, 67420, 132958, 34655, 100193, 132962, 34658, 100195, 34661, 67429, 132971, 67440, 100209, 1907, 34676, 34679, 34680, 67448, 100215, 100219, 132989, 1920, 34693, 100230, 34695, 100233, 67466, 1931, 133003, 34703, 100241, 100242, 34709, 133017, 100250, 1947, 1950, 67486, 133025, 100261, 100264, 67503, 34742, 34743, 100281, 67515, 133056, 67527, 1992, 133064, 133066, 34760, 1996, 133068, 34763, 100298, 100303, 133073, 34769, 67537, 100304, 100310, 34777, 67546, 34780, 100316, 34784, 100321, 34787, 67556, 100324, 67559, 100328, 67561, 2026, 67565, 34807, 133112, 34809, 67576, 100344, 100347, 133120, 100352, 34818, 100355, 2052, 2056, 2057, 133129, 100363, 2062, 2063, 2067, 133139, 100371, 133142, 2071, 133144, 67606, 67607, 2075, 100376, 133151, 2081, 100390, 34856, 67624, 67626, 133163, 100395, 133167, 67632, 2098, 2099, 133170, 67636, 133179, 34875, 34880, 100416, 34882, 2121, 34890, 133198, 2127, 34895, 2132, 133204, 67669, 2135, 133209, 67673, 133211, 34908, 67678, 100450, 67683, 67685, 133224, 34920, 133226, 67688, 67692, 133232, 100464, 34930, 100469, 2169, 67709, 133246, 67712, 67713, 2179, 67717, 2183, 100489, 67722, 67723, 100491, 133262, 67731, 2198, 2200, 100507, 133278, 34975, 133280, 67748, 67751, 2217, 2220, 100534, 35001, 67770, 2236, 35004, 35005, 100544, 2242, 133315, 100548, 2251, 35019, 100555, 2257, 67793, 2260, 133333, 67796, 2265, 35035, 2268, 2269, 67808, 67809, 67810, 2275, 2276, 133348, 35043, 133351, 35048, 35050, 100590, 67823, 35058, 100594, 100595, 2294, 35065, 133371, 2302, 2312, 67858, 133396, 2327, 133401, 67869, 2337, 2340, 100645, 133417, 100650, 2348, 35118, 35121, 35126, 35129, 35130, 2363, 100667, 35134, 2369, 100674, 2371, 2373, 2376, 133448, 2378, 133451, 67912, 2381, 35149, 100689, 35154, 100691, 2389, 2390, 133464, 2395, 100699, 35168, 67937, 35170, 100704, 35173, 133478, 35178, 100718, 133488, 2419, 35189, 35190, 35191, 2424, 100727, 67964, 100733, 35200, 2433, 67971, 2436, 100742, 67975, 133512, 35208, 67976, 133516, 35213, 67982, 35215, 35219, 100755, 67990, 67991, 100762, 100766, 100769, 133538, 100770, 133540, 133545, 35242, 133548, 2479, 2482, 35251, 100787, 133557, 2486, 35258, 35259, 68027, 35265, 100802, 133572, 2501, 35269, 2504, 68041, 2506, 133588, 100821, 68054, 133595, 2528, 133601, 2533, 35302, 100837, 2536, 100838, 100841, 35307, 2540, 68077, 133614, 100847, 35313, 133618, 2551, 133624, 2553, 35325, 133630, 68093, 2560, 100864, 35330, 35332, 68102, 35335, 133640, 100870, 68113, 100881, 35347, 100883, 68117, 2583, 35351, 100887, 35354, 68122, 35356, 133661, 68128, 2599, 100905, 2602, 100906, 100907, 35373, 133679, 100913, 133682, 133684, 35382, 133688, 2617, 100924, 35391, 100928, 2625, 133700, 35399, 68168, 133705, 68174, 133712, 100947, 68180, 133721, 133727, 133728, 100960, 133731, 68195, 2661, 133734, 133737, 133738, 68203, 133741, 35439, 68208, 133745, 133746, 133749, 35446, 100981, 100983, 133757, 35455, 2689, 2690, 68241, 101010, 101012, 133782, 133783, 35479, 35487, 101025, 35490, 35491, 101028, 101029, 68263, 133801, 2730, 68265, 133810, 68275, 133812, 2743, 35514, 68289, 68290, 68291, 2756, 133829, 35525, 68293, 35528, 35529, 35530, 2763, 133836, 133837, 68296, 133839, 68298, 101064, 101067, 101073, 101074, 2775, 133848, 133849, 68313, 68314, 101081, 101082, 101085, 2783, 133856, 35554, 68322, 35556, 133865, 101100, 35565, 2798, 35569, 101107, 68342, 68343, 101112, 68345, 133882, 68347, 133885, 133889, 68354, 101123, 101124, 35589, 101127, 2829, 133907, 2836, 35606, 133912, 68378, 133917, 101149, 68385, 68388, 68390, 101158, 2859, 133932, 68398, 2867, 35638, 101174, 2874, 2875, 35642, 35645, 68410, 101182, 2884, 35653, 2886, 68423, 101191, 101193, 2890, 68429, 68431, 35664, 133969, 133972, 101205, 68438, 101206, 68440, 101211, 2908, 2910, 68446, 101215, 35684, 2920, 35689, 133994, 68459, 133996, 134000, 35696, 35699, 68467, 134005, 101237, 101238, 2937, 68473, 68474, 68475, 101244, 101245, 101249, 101251, 2948, 68486, 35721, 68489, 68490, 2965, 101270, 68503, 68504, 35737, 101277, 2974, 68515, 68516, 68519, 2985, 134057, 35754, 68524, 68525, 101289, 68529, 2994, 68533, 68534, 68539, 3004, 35773, 68544, 134082, 68547, 68551, 35784, 35786, 68557, 68558, 134095, 3027, 101333, 68569, 35804, 68573, 3041, 134113, 35816, 101352, 134123, 101362, 134131, 3063, 68599, 68602, 134141, 134142, 101376, 3077, 68615, 3083, 68624, 35858, 3095, 35864, 68632, 134170, 35866, 101403, 101406, 3107, 3108, 35875, 101413, 134183, 3112, 101417, 3115, 101420, 3117, 3118, 134193, 68657, 3124, 101429, 3127, 68664, 134203, 35900, 68669, 134206, 101438, 68673, 35906, 101443, 68677, 101445, 134215, 101449, 3157, 35935, 35937, 68708, 134248, 134249, 134250, 35948, 35949, 3184, 35952, 68731, 101499, 134269, 68735, 134272, 134274, 134275, 68739, 101510, 35977, 134282, 68749, 101519, 3220, 35990, 134296, 35993, 68761, 35996, 36000, 68769, 36006, 36012, 3245, 3246, 36014, 36015, 68784, 3250, 101550, 3253, 3256, 36024, 134330, 68793, 68795, 101562, 68800, 36043, 36049, 134355, 3284, 101589, 3286, 101592, 3289, 101594, 101597, 3297, 3299, 3300, 134373, 3302, 68839, 101609, 36074, 134379, 3309, 68847, 36082, 68857, 68858, 68860, 101629, 134399, 134404, 101638, 3337, 101641, 68875, 36110, 36114, 101650, 101656, 68893, 36130, 36133, 3366, 101672, 3371, 68907, 134449, 3378, 3379, 36149, 68919, 101695, 36162, 134467, 101700, 3397, 3398, 3400, 36170, 101708, 68941, 134478, 36174, 3410, 3412, 134485, 101717, 101726, 36192, 134501, 101737, 3434, 36204, 3437, 3438, 3441, 134516, 101752, 134522, 36219, 101756, 101758, 36226, 3459, 3460, 36229, 36228, 134536, 134537, 69001, 101769, 3469, 134541, 3471, 101773, 3476, 36244, 36245, 69015, 134552, 134553, 101782, 101786, 69020, 3485, 3489, 101803, 3503, 36271, 69039, 101808, 3507, 69043, 134582, 134583, 69047, 3514, 3518, 3523, 36292, 101827, 69063, 69065, 134603, 36300, 69072, 101842, 69076, 134614, 134615, 101846, 3545, 36315, 69084, 69086, 69087, 101859, 69093, 3561, 3567, 3569, 69105, 101875, 69111, 36345, 101881, 3581, 134653, 36351, 36352, 101885, 134658, 101889, 101891, 36359, 36361, 3596, 134670, 36366, 134675, 134679, 3611, 101915, 69149, 134689, 69155, 36390, 134695, 36391, 69163, 36398, 3631, 134703, 69169, 69172, 36407, 3642, 101948, 69184, 3649, 3654, 134728, 134729, 36425, 36429, 3663, 134737, 36433, 69204, 101972, 3676, 134749, 3678, 134754, 134755, 101989, 134762, 101994, 36460, 134767, 69233, 3700, 69236, 134774, 102010, 134779, 69246, 134784, 102017, 3714, 102019, 134788, 102020, 36486, 36488, 134795, 102029, 134798, 69262, 102030, 3730, 102034, 36502, 69272, 36505, 102040, 36507, 3740, 102044, 36511, 69280, 134817, 102048, 36515, 69283, 69284, 3751, 134824, 3753, 134826, 36519, 134828, 102055, 134831, 3760, 134832, 134833, 36527, 3764, 134837, 36529, 3767, 69297, 69300, 102069, 102070, 102076, 134845, 3774, 102085, 102092, 134861, 36557, 36562, 3797, 134872, 36569, 134874, 36570, 102108, 36575, 3809, 69349, 3815, 36584, 102122, 134891, 102128, 3828, 102142, 36607, 102145, 3842, 36610, 36611, 69378, 36615, 69385, 102154, 3851, 69387, 3853, 36623, 69393, 3858, 102163, 3860, 102165, 36633, 69404, 69410, 102182, 102184, 69417, 3883, 69419, 69423, 69425, 102196, 3893, 102198, 134968, 134969, 36666, 3899, 3902, 134974, 102208, 3905, 102209, 3908, 102213, 36678, 102216, 36682, 102219, 36685, 134992, 134993, 102225, 134996, 102231, 3930, 36699, 3932, 69467, 69468, 102234, 135008, 102235, 36706, 135012, 36714, 3947, 36716, 135021, 69485, 102250, 102262, 36729, 3962, 3963, 36733, 102271, 36738, 3973, 69509, 102278, 69514, 3979, 135057, 69521, 135059, 135060, 102296, 135066, 69533, 3998, 36766, 36770, 135076, 135081, 36779, 36784, 135089, 135090, 135092, 135094, 135096, 36793, 69563, 69572, 69573, 135111, 69581, 4048, 36817, 69584, 135123, 69586, 102352, 36822, 69593, 36826, 102361, 36828, 4061, 4065, 135137, 36834, 135142, 102374, 135145, 69614, 135151, 36848, 135153, 36850, 69616, 102384, 135157, 69628, 135165, 4094, 36863, 135170, 36866, 69637, 102405, 69640, 69642, 4107, 135180, 102412, 135182, 102414, 4113, 135185, 36883, 4117, 4118, 4126, 102431, 135201, 69667, 36904, 69672, 135210, 4139, 135216, 4145, 36912, 102454, 36920, 4153, 36922, 102460, 4160, 4161, 4164, 4165, 36932, 4167, 36936, 135241, 102472, 69707, 69710, 69711, 135250, 135252, 69717, 69718, 135259, 69725, 102496, 135267, 69732, 135271, 102503, 4203, 69740, 135278, 69747, 69748, 69749, 69751, 4218, 102522, 4227, 36995, 69763, 102534, 135303, 37000, 37001, 69770, 102540, 102541, 69774, 135311, 135314, 102548, 4245, 4246, 69781, 69782, 69786, 4251, 4252, 37026, 37027, 37028, 4261, 69796, 37032, 69805, 4271, 69807, 69809, 37042, 135347, 135348, 102576, 69815, 102585, 102588, 102590, 102593, 4291, 135366, 37062, 102599, 4299, 135371, 4302, 135375, 69841, 37074, 4307, 69842, 135382, 102614, 102617, 135390, 37089, 37090, 4325, 37098, 135403, 102637, 135409, 135410, 102641, 69880, 135417, 4347, 135421, 69885, 37119, 102654, 69893, 37126, 37127, 102662, 135435, 102667, 102674, 4371, 37141, 37146, 102683, 4380, 135455, 69919, 102692, 69927, 4393, 135466, 69936, 69937, 135475, 102708, 69941, 4406, 102709, 69944, 102714, 37180, 37181, 4415, 69952, 102719, 4418, 102722, 37188, 4423, 37191, 37192, 69961, 135501, 102734, 69967, 37203, 102739, 69976, 4447, 4448, 37217, 102751, 37220, 69989, 135529, 102764, 102765, 135534, 37231, 135536, 135542, 37238, 70011, 135550, 70016, 37249, 102787, 70020, 135557, 102790, 4490, 135564, 102797, 4494, 70031, 37264, 4498, 135572, 37270, 70039, 135578, 70043, 135580, 70045, 70046, 102817, 4516, 70054, 70056, 135595, 4524, 102828, 102829, 4529, 70066, 4531, 135604, 70067, 102840, 135610, 37308, 135613, 37309, 135615, 37310, 4545, 37311, 37315, 70078, 4549, 70084, 102857, 102858, 70091, 4556, 37324, 135632, 70099, 70101, 135638, 37335, 70104, 102874, 70110, 4576, 4577, 37345, 4580, 102886, 37352, 135657, 37355, 70125, 37358, 4592, 37360, 4594, 135667, 37361, 37366, 4599, 4601, 4602, 135673, 102906, 102912, 102917, 102919, 4616, 70155, 102924, 102926, 37391, 135696, 70163, 37398, 4633, 37404, 4638, 4641, 4645, 37413, 102951, 4649, 37417, 135723, 37418, 70188, 37422, 135730, 70199, 4664, 135741, 37437, 37448, 4683, 135758, 37454, 102990, 135763, 4692, 37462, 4695, 70232, 70233, 37466, 135773, 135774, 135775, 135779, 70245, 103016, 4717, 103022, 135792, 37488, 70259, 4726, 37495, 70263, 70266, 37499, 70269, 70270, 70274, 4739, 135811, 135812, 103048, 103051, 103055, 70295, 135834, 37532, 70304, 103072, 103090, 4789, 4793, 4795, 37563, 70331, 70340, 4808, 103113, 4811, 37582, 4817, 4819, 37592, 103138, 103139, 103143, 70376, 70377, 4842, 4844, 70384, 4850, 4851, 103157, 70396, 4864, 103169, 103171, 37645, 70414, 4880, 70419, 37653, 103194, 103195, 70432, 70434, 70436, 70439, 4906, 103210, 37676, 37677, 70444, 70448, 103216, 4914, 70453, 4920, 4923, 70463, 37699, 37700, 70474, 4939, 103243, 37711, 4944, 70481, 103248, 4948, 4949, 37717, 37718, 4956, 37729, 70505, 70506, 103274, 37743, 37744, 70511, 4978, 70513, 4981, 103286, 37753, 70523, 70528, 4994, 70533, 103302, 37767, 37768, 103304, 103305, 70540, 70545, 5010, 37778, 103316, 103319, 37790, 5024, 70560, 37795, 70564, 70567, 103335, 37802, 103340, 70578, 103346, 70580, 37814, 70587, 37823, 70591, 70593, 5067, 37844, 37845, 5078, 70614, 5081, 103385, 103386, 70620, 103392, 37859, 70629, 5097, 5102, 37875, 37876, 37878, 103415, 5119, 70655, 37889, 5123, 103428, 70662, 103434, 37901, 103439, 5137, 5140, 103444, 37910, 103448, 5147, 37917, 103455, 37924, 103460, 37929, 70698, 103465, 103467, 37933, 103468, 103477, 37943, 5177, 37951, 70727, 103496, 103497, 5195, 70734, 70737, 37975, 70744, 37977, 103517, 5214, 37982, 37985, 37986, 5220, 37997, 5237, 103544, 5243, 38012, 103555, 38021, 5254, 38023, 70802, 5268, 103583, 38049, 103587, 38054, 38056, 103600, 38068, 38070, 5303, 5304, 5306, 5309, 38079, 70850, 5316, 70859, 5324, 5325, 5328, 103633, 103637, 70873, 103643, 38109, 38114, 103652, 70886, 38119, 5352, 70888, 5354, 5355, 38123, 103655, 70894, 103658, 103659, 103661, 103664, 70899, 5365, 38133, 38135, 70905, 70909, 103677, 70915, 103683, 5381, 38153, 103689, 5394, 70933, 70935, 38168, 103704, 70940, 103710, 5407, 5411, 5413, 38181, 5415, 70951, 103721, 38186, 38191, 103733, 70967, 103735, 103737, 38202, 70973, 70981, 5447, 38215, 38218, 103759, 5457, 38227, 5460, 70996, 5462, 103765, 38232, 38235, 5470, 103775, 5473, 103790, 103798, 38267, 71038, 71039, 71040, 71046, 103817, 38283, 71051, 71056, 103825, 5524, 103831, 71066, 38313, 38315, 71086, 5554, 103860, 38327, 71095, 71097, 103867, 103874, 103881, 38350, 103893, 5590, 5596, 38368, 38369, 38375, 5608, 5609, 71143, 5611, 71150, 38383, 5616, 71151, 103921, 5620, 71159, 71160, 103930, 5627, 71169, 5634, 71174, 5639, 71177, 103945, 103946, 5644, 71183, 103953, 103959, 103966, 38437, 5672, 103977, 38447, 5681, 103988, 38456, 103992, 5694, 103998, 104000, 104002, 104003, 71240, 38475, 71244, 38481, 71249, 5717, 38487, 104023, 104027, 71264, 104037, 104039, 71272, 104040, 38509, 104047, 5747, 38522, 104059, 5758, 71298, 104066, 38538, 5774, 5784, 104090, 5791, 71327, 104098, 104099, 71332, 104100, 5799, 38567, 71336, 38570, 104105, 104107, 104112, 38577, 104114, 71347, 71348, 104121, 38587, 38589, 104126, 104128, 5828, 38598, 5831, 38599, 38600, 71366, 71367, 5836, 5837, 71374, 5841, 104145, 71380, 71381, 38614, 71384, 104155, 5864, 38633, 104170, 104179, 38644, 5877, 104183, 104186, 104189, 5887, 5888, 38656, 104191, 38660, 104198, 5897, 71438, 38675, 38676, 71447, 104216, 104217, 5915, 38683, 71455, 5921, 104225, 71462, 71465, 38698, 104239, 38704, 5938, 71475, 104242, 5942, 5943, 5949, 71486, 5952, 104260, 38734, 38737, 5970, 104275, 104278, 104288, 38755, 5990, 104296, 38762, 6000, 6001, 104304, 104306, 6004, 6005, 6008, 6009, 71546, 71548, 104322, 38787, 38790, 38792, 6027, 71563, 38799, 71572, 6039, 38808, 71576, 71577, 71578, 104345, 104348, 104352, 38817, 104353, 104354, 38822, 6055, 38823, 71598, 6064, 6065, 71600, 38839, 6073, 38843, 6079, 6081, 104391, 104392, 38858, 71626, 104395, 71629, 104401, 38870, 104408, 71641, 38874, 38875, 104411, 38878, 38879, 71646, 71652, 6117, 71660, 6125, 6126, 104432, 104438, 6137, 71674, 104441, 104449, 71689, 38939, 38941, 104483, 71716, 6182, 104486, 104487, 71721, 104490, 38957, 71726, 104495, 104505, 104510, 6208, 71745, 38978, 104512, 71748, 104518, 38984, 6217, 104521, 71758, 71759, 6227, 38997, 71765, 71767, 6232, 39000, 39001, 39002, 104535, 71774, 71775, 39008, 71780, 39014, 71786, 104559, 6258, 71795, 39031, 39033, 39036, 6271, 71811, 39045, 6279, 104586, 6284, 39055, 6292, 104599, 39065, 104603, 6309, 6312, 6314, 71850, 6316, 39086, 39087, 6321, 39089, 39098, 71867, 71869, 39103, 6340, 39110, 6343, 71879, 104650, 71891, 39124, 6361, 71899, 104669, 6366, 71904, 6371, 6372, 39145, 71915, 104684, 104692, 6389, 6390, 71926, 104696, 104698, 39164, 71936, 104706, 6403, 39171, 104709, 71946, 71961, 104736, 104737, 39205, 6440, 104747, 6445, 71983, 104753, 39218, 6452, 39221, 39222, 39230, 104769, 6466, 72002, 98979, 39238, 39241, 72012, 6477, 72015, 6482, 104787, 39253, 72029, 39264, 72033, 104801, 39267, 104804, 6501, 6503, 6504, 39276, 104814, 6511, 6512, 104819, 72054, 104823, 6522, 6532, 39302, 39306, 104843, 39310, 39311, 39312, 39314, 6550, 72086, 72088, 72091, 104862, 39332, 72101, 6566, 104872, 104873, 6571, 72112, 104881, 39352, 72120, 72121, 6589, 72125, 104894, 39364, 104903, 39368, 39373, 39379, 72147, 72149, 6616, 6617, 72152, 104920, 72160, 72161, 39400, 6634, 104938, 6637, 6638, 39406, 104945, 72182, 39415, 39416, 72190, 39425, 6666, 39435, 6668, 39439, 72207, 72208, 104975, 72211, 104981, 72218, 72223, 104991, 6691, 39460, 72229, 39467, 72236, 105006, 6703, 72242, 39476, 6710, 72248, 105016, 72251, 72253, 39487, 6723, 39497, 6730, 39499, 39500, 72269, 105033, 39504, 6743, 105047, 105057, 105059, 39529, 39531, 6765, 72302, 6773, 6775, 6778, 105083, 39566, 39572, 105113, 6810, 72349, 6814, 105118, 105119, 39585, 72355, 105124, 72357, 105125, 6824, 39593, 72360, 6827, 105133, 6833, 72370, 105142, 72377, 39611, 72380, 39616, 105152, 6850, 6864, 105169, 6868, 39638, 72407, 105174, 39641, 39648, 105187, 105190, 105191, 39656, 6890, 105196, 6895, 39664, 72432, 72439, 6904, 105207, 72446, 72450, 72452, 39686, 39687, 72455, 39693, 105234, 6934, 105240, 39707, 105246, 72482, 6948, 72484, 39721, 105260, 105264, 105265, 72498, 105268, 105269, 39735, 105274, 105276, 6973, 39742, 72510, 39745, 39747, 39748, 105287, 72528, 6993, 39761, 105297, 105303, 39768, 72538, 105308, 105309, 7006, 105313, 7011, 105315, 7014, 105320, 7021, 39790, 72557, 7024, 105326, 105327, 72564, 39798, 7031, 7033, 39802, 72572, 72575, 7042, 72582, 39815, 7049, 105353, 39821, 72589, 7062, 7063, 7067, 72609, 72611, 72612, 7078, 7079, 39847, 72614, 72615, 39851, 39853, 7088, 72628, 7098, 7102, 39872, 105411, 39876, 7115, 39891, 105427, 39894, 39895, 105435, 39902, 72672, 39909, 39912, 72690, 39925, 72695, 72702, 105471, 105474, 72719, 39952, 72721, 39954, 39958, 7192, 72728, 105497, 105501, 39968, 39980, 7217, 7220, 39988, 7225, 39994, 7227, 7246, 105551, 72790, 72791, 40026, 72805, 7271, 105575, 105576, 40043, 40045, 72814, 105584, 7281, 72817, 7284, 40053, 105594, 105599, 7299, 40069, 7302, 105606, 72841, 40074, 72842, 72844, 105609, 105611, 72848, 7313, 7314, 72853, 40088, 72864, 105632, 7331, 7332, 40100, 105636, 105646, 105648, 7348, 40122, 105662, 40129, 72897, 72898, 72900, 7370, 40139, 7372, 105676, 105685, 40151, 105689, 40155, 7389, 40157, 40160, 105697, 40167, 105704, 72937, 72938, 40171, 72940, 105709, 40174, 40182, 40185, 7419, 105724, 72959, 7426, 105735, 7433, 72969, 7445, 7449, 7451, 105755, 105756, 105759, 40226, 105763, 105765, 72999, 7467, 105772, 105774, 73009, 105778, 7475, 7476, 40245, 7478, 40249, 105788, 7490, 105798, 73034, 7501, 40270, 40274, 40275, 105810, 105813, 40278, 73047, 7512, 73049, 7514, 73050, 40284, 7517, 105817, 105822, 73057, 40290, 73058, 105830, 7530, 7532, 40302, 7535, 7536, 40304, 7538, 40306, 40307, 40308, 73070, 7543, 105846, 73082, 73085, 40319, 7552, 73090, 73096, 105867, 73107, 40340, 105875, 105877, 7575, 7578, 105884, 73117, 73120, 40355, 40356, 73126, 73129, 7597, 105902, 105907, 40374, 105910, 40379, 73147, 73148, 105917, 105919, 7625, 7627, 73164, 7633, 40401, 73170, 7638, 40411, 40413, 7647, 40416, 73185, 105953, 7656, 105961, 7658, 105962, 40428, 73199, 7666, 7667, 105971, 7670, 105977, 7674, 7681, 105986, 73219, 7684, 73222, 7692, 40461, 40462, 73232, 40466, 106002, 106003, 106006, 40472, 73245, 40479, 73251, 40488, 7721, 73257, 7723, 40491, 7725, 73261, 106028, 7738, 73279, 7746, 73285, 106056, 40524, 7764, 7765, 73301, 106069, 40536, 7769, 73304, 106074, 40542, 73311, 7776, 40547, 7781, 40551, 7784, 7787, 7788, 7789, 7792, 7795, 73335, 73336, 40579, 106117, 73350, 106119, 40584, 7818, 40588, 40589, 73358, 73361, 40595, 7828, 106132, 7830, 40603, 73372, 106139, 40608, 73379, 106151, 40616, 106153, 7851, 73387, 40621, 7854, 73389, 106159, 7858, 40630, 73400, 7865, 40637, 40640, 40642, 106178, 73416, 40649, 106188, 40655, 106191, 40658, 73426, 106195, 73429, 40662, 40663, 40667, 73436, 106203, 73441, 7906, 7909, 40678, 40680, 7924, 73462, 73465, 106235, 7932, 7933, 40701, 73471, 40705, 7939, 73475, 106245, 73480, 40714, 7948, 40717, 7950, 40727, 73497, 106266, 40732, 7967, 73504, 106271, 73506, 40739, 40740, 40741, 106273, 106274, 106283, 7980, 40748, 40749, 106288, 7985, 106295, 7996, 7997, 73532, 40767, 40768, 8004, 106309, 8006, 73543, 40776, 8010, 40784, 8023, 40799, 8033, 8035, 40804, 106339, 106346, 73579, 40816, 8050, 40829, 40836, 40837, 73617, 106391, 40856, 106395, 40861, 40862, 8095, 8096, 40865, 106399, 40870, 106407, 8108, 8109, 73655, 106425, 40892, 8125, 40893, 73664, 106433, 73667, 73670, 106439, 73676, 8141, 8142, 8143, 8146, 73682, 40916, 106452, 8150, 73687, 106459, 40924, 73693, 40928, 40931, 73700, 40939, 106475, 106480, 40948, 40949, 106488, 8185, 73721, 73724, 73725, 106494, 40959, 106497, 73732, 40965, 106505, 8210, 40978, 8212, 40980, 106516, 8215, 8218, 40990, 73760, 8225, 40993, 106530, 8232, 73768, 106537, 8235, 41005, 73775, 8250, 41019, 8254, 73791, 8258, 8259, 41034, 8267, 73804, 8269, 41038, 106574, 8280, 73819, 73823, 73827, 8295, 8298, 8299, 8300, 106604, 73839, 106607, 8305, 73841, 41077, 8310, 41084, 73852, 8318, 73853, 106621, 106623, 73863, 8332, 106637, 106638, 73872, 8337, 73873, 106644, 73878, 73880, 8348, 8351, 73887, 106656, 106663, 73898, 73901, 106670, 41137, 73905, 73906, 73911, 8376, 73915, 8383, 41152, 41153, 73924, 106693, 41158, 41159, 73926, 106696, 8396, 73933, 8398, 73936, 41169, 106706, 8404, 41173, 106710, 73943, 8408, 8409, 8410, 73947, 73951, 8422, 8430, 8431, 106737, 106741, 73977, 73981, 41215, 73983, 8449, 106752, 106755, 73990, 106758, 41225, 8459, 41227, 8463, 41234, 41237, 74008, 8479, 8482, 74019, 106786, 106790, 106793, 8491, 8495, 106802, 74036, 74042, 74043, 106810, 74046, 106815, 8513, 41282, 41284, 74054, 106826, 106827, 8527, 41297, 8530, 74066, 106833, 106848, 8547, 8549, 106866, 8565, 74106, 41340, 74114, 106889, 74127, 41360, 8601, 74137, 106909, 41376, 8614, 106920, 41385, 106927, 106930, 74168, 106936, 106937, 74172, 41407, 74176, 74181, 74187, 8652, 41420, 106960, 74197, 74200, 106969, 8666, 8667, 8676, 106980, 74214, 106982, 8682, 8683, 8684, 106987, 106988, 8687, 106994, 8693, 41462, 74230, 41466, 107003, 74239, 8704, 74241, 41475, 107011, 107018, 41487, 8720, 41488, 41491, 74267, 41500, 8736, 74273, 41511, 107048, 41515, 74284, 74285, 41523, 74291, 74293, 74294, 107065, 74300, 41538, 107078, 107080, 74315, 8780, 107087, 41553, 41556, 74324, 8790, 74325, 41563, 41569, 107107, 107109, 41574, 107116, 74349, 41582, 107120, 74354, 107125, 74361, 41594, 41598, 107142, 74381, 74384, 8849, 107153, 107154, 41620, 8853, 8856, 107162, 8867, 107171, 41637, 41642, 41643, 74413, 107189, 41655, 8888, 107199, 8896, 41671, 41676, 74444, 41689, 41696, 8930, 107236, 8934, 74470, 74472, 8938, 8941, 41711, 107247, 8945, 8946, 41717, 41722, 74495, 8960, 107263, 107267, 41734, 107270, 107274, 74507, 8978, 41747, 107284, 8981, 8982, 74519, 8984, 74520, 107288, 107289, 107291, 41759, 41764, 74532, 74533, 8999, 74537, 107309, 9009, 107321, 74555, 41788, 41789, 9022, 107323, 9026, 9032, 107337, 9034, 41806, 74575, 9041, 74584, 41817, 9052, 74589, 41822, 41823, 107357, 107368, 41833, 9070, 41840, 9073, 74610, 107382, 9080, 74619, 107387, 41856, 107394, 107396, 41862, 107399, 41866, 74635, 41868, 41869, 74637, 107406, 41872, 41873, 41874, 107410, 41876, 107411, 107414, 9113, 107420, 9117, 107428, 74666, 9132, 41900, 9137, 41905, 74676, 41911, 9147, 41916, 41917, 41918, 41923, 74691, 41925, 41926, 41927, 9160, 9161, 107464, 41931, 107470, 74703, 107476, 41941, 9175, 9183, 74720, 107488, 9188, 74730, 107498, 107499, 9200, 9210, 41979, 74754, 41987, 107529, 107531, 41997, 41998, 74769, 74774, 42008, 42011, 9253, 9255, 42025, 9262, 74800, 9268, 74810, 9278, 9279, 9282, 107587, 107588, 9285, 107589, 107591, 107592, 42058, 107595, 9292, 9294, 107600, 42065, 107602, 107606, 42074, 107619, 74855, 9320, 9322, 42092, 42094, 74863, 42097, 42098, 9336, 74873, 74874, 107642, 107644, 42112, 107650, 9349, 9355, 107659, 107660, 42126, 107670, 74908, 74910, 42144, 9377, 74916, 74917, 74918, 107689, 74924, 9391, 9393, 107699, 9396, 42168, 107704, 42170, 9404, 74942, 74946, 74948, 107722, 9419, 74956, 107727, 9425, 74964, 42197, 9431, 42203, 107739, 74973, 74976, 9441, 42210, 74978, 74980, 107747, 107756, 74989, 107760, 42225, 9464, 9466, 75005, 75006, 42243, 9479, 75015, 75020, 75023, 107792, 42257, 9490, 9494, 107799, 9497, 42270, 107806, 42280, 42282, 107821, 42289, 9525, 75061, 42295, 9530, 107834, 9534, 42303, 107838, 107839, 9542, 107846, 107852, 75086, 42324, 9558, 42328, 42329, 75102, 75103, 75106, 107875, 107877, 75112, 75113, 107884, 75117, 9582, 75124, 75129, 75133, 75134, 107902, 107907, 9608, 9609, 42385, 9618, 42389, 9624, 9625, 107932, 75168, 107936, 107937, 42403, 75171, 9644, 9645, 42416, 9649, 9650, 42421, 9660, 75196, 107966, 75199, 9666, 42434, 107974, 107975, 9674, 9675, 42450, 75218, 75220, 107986, 9686, 42461, 107997, 108000, 9700, 9701, 108010, 75243, 42481, 108017, 75252, 108025, 75263, 42497, 75269, 42503, 75272, 42505, 75274, 75277, 108048, 42513, 75285, 9750, 42518, 42520, 108055, 108059, 42535, 42536, 42539, 42540, 42541, 108077, 108081, 9781, 75318, 108086, 42553, 9792, 108096, 75330, 108104, 9804, 75341, 108116, 75350, 108118, 75353, 108122, 108125, 75359, 108130, 75366, 9835, 42604, 9836, 42606, 42607, 108139, 42609, 108150, 42616, 9849, 75389, 108160, 108162, 108163, 42628, 9868, 75405, 9874, 108182, 108184, 9882, 75419, 108188, 42658, 75431, 9897, 42666, 9903, 9910, 42679, 75455, 9920, 108224, 42690, 75460, 108228, 108229, 9930, 9937, 9938, 75474, 42709, 9942, 9943, 108249, 9951, 75487, 9953, 75489, 108261, 9960, 108264, 75501, 108270, 42738, 9972, 9979, 108284, 9982, 9983, 108288, 75522, 75523, 75532, 42765, 42766, 108300, 108304, 108305, 108306, 108308, 108309, 10012, 75556, 10021, 75559, 10024, 75562, 108332, 75571, 75572, 10041, 75580, 42815, 42819, 108358, 10055, 108360, 75596, 75597, 42832, 108371, 108375, 42845, 108387, 108389, 10099, 10103, 42874, 10110, 10111, 75649, 75651, 108419, 75654, 10119, 42890, 10123, 10127, 108431, 42899, 10132, 42900, 108439, 75673, 108441, 108443, 108451, 10151, 108471, 75704, 108473, 10170, 10172, 42946, 42947, 42950, 42951, 108486, 108487, 108493, 10195, 10197, 75737, 10203, 75742, 42979, 10212, 108515, 42987, 10229, 10230, 42998, 108534, 43001, 108538, 75771, 43007, 10242, 43010, 43012, 108553, 75789, 10259, 108564, 108566, 10263, 108567, 108568, 108573, 10272, 43041, 43042, 75808, 10277, 43049, 108588, 108591, 108593, 108612, 43078, 75847, 10313, 43082, 108620, 10317, 10319, 75856, 43093, 108629, 75863, 75865, 10339, 43114, 108651, 10348, 108654, 75891, 75892, 108661, 43127, 10360, 43129, 108672, 43140, 75913, 108681, 43152, 43159, 10398, 43168, 43171, 10405, 43176, 75944, 108712, 43181, 43182, 10420, 10427, 75964, 10429, 10430, 75968, 43201, 75970, 108739, 108742, 10439, 10442, 43211, 43212, 10448, 43218, 75991, 108763, 108766, 108768, 43233, 76001, 108770, 10468, 76006, 10475, 43246, 108782, 43253, 108789, 76025, 10493, 43261, 43262, 76030, 108800, 76036, 10502, 108813, 108817, 10517, 76053, 76056, 76057, 108824, 76059, 108827, 10525, 108837, 10534, 43303, 76072, 10538, 76075, 108845, 10542, 43313, 10548, 10556, 43324, 76096, 10564, 43333, 76102, 108876, 43342, 108879, 76115, 10580, 43350, 76121, 10588, 43357, 43358, 43364, 76134, 76137, 43370, 108908, 76143, 43381, 108921, 76156, 76161, 10627, 76163, 10629, 10630, 10637, 43409, 10646, 76183, 76184, 76185, 76186, 10651, 10657, 108962, 76195, 43428, 10661, 108967, 10664, 10669, 10670, 43439, 43440, 43441, 108973, 43447, 76216, 76217, 108983, 108984, 10685, 43457, 43463, 43465, 109001, 10703, 10704, 109007, 43474, 109013, 43481, 109020, 76260, 109033, 76271, 43506, 76280, 10746, 109051, 43519, 76287, 76288, 10758, 76297, 10765, 43533, 109070, 76304, 109072, 109073, 43539, 43540, 76312, 76314, 76319, 43553, 109089, 76323, 10789, 76327, 43560, 109098, 43563, 76334, 10799, 109102, 76345, 10811, 109119, 43587, 10820, 43588, 76356, 43592, 99845, 10827, 10828, 43596, 43599, 76367, 109136, 10834, 109138, 10843, 43611, 109147, 109149, 10848, 109153, 76387, 109155, 10853, 43627, 10862, 43630, 10864, 76404, 109174, 43643, 10877, 109184, 76417, 76419, 10886, 109194, 43659, 109195, 10893, 10894, 10895, 76431, 76440, 109209, 10906, 76442, 43682, 10915, 10916, 109223, 109224, 43689, 43690, 76458, 43692, 10926, 109230, 76465, 109233, 76476, 76477, 43712, 109249, 109251, 10953, 76491, 43724, 76495, 109263, 76510, 76513, 76516, 43750, 109287, 109292, 43758, 76530, 10997, 76534, 109309, 109312, 11010, 76546, 76548, 109314, 109321, 109323, 11027, 109333, 76568, 11034, 109343, 109345, 43811, 109349, 76584, 109352, 43821, 76591, 11056, 43825, 76592, 43830, 43831, 11066, 109373, 109379, 109380, 43847, 11080, 43849, 76618, 43852, 11087, 43859, 11092, 109396, 76640, 43876, 76645, 11110, 109414, 76648, 76650, 76651, 43884, 11124, 109429, 43894, 76662, 43897, 11130, 109435, 109439, 43904, 109441, 109443, 43911, 76680, 11145, 109450, 43915, 76684, 11150, 76687, 109457, 43929, 109465, 11166, 11167, 109471, 109472, 76706, 109477, 43949, 76718, 76720, 43955, 109492, 43957, 109495, 11199, 11200, 43971, 76740, 11205, 43974, 43977, 109513, 109520, 11217, 76759, 76760, 76768, 109536, 11234, 109538, 44004, 76773, 44007, 109545, 44010, 76780, 44019, 11255, 109559, 109561, 11264, 76800, 109575, 11279, 11280, 11281, 76815, 11284, 44053, 11286, 76820, 76823, 109591, 109596, 11294, 11296, 11301, 44069, 109608, 44074, 76845, 11312, 11314, 76852, 11317, 44085, 109623, 11320, 76856, 44090, 109624, 44105, 44106, 44107, 109644, 11341, 11343, 76884, 76886, 44119, 11353, 11354, 76893, 76894, 11359, 76895, 109663, 76898, 11363, 76899, 11365, 11366, 44135, 76905, 109673, 44139, 76907, 11373, 44142, 109674, 76912, 76914, 109689, 76922, 44158, 11396, 44165, 76932, 11399, 109706, 44171, 11407, 109713, 109717, 76950, 76954, 44188, 44189, 44192, 11425, 44193, 76961, 109728, 76966, 76967, 76972, 76980, 109750, 76983, 44217, 109755, 109759, 11459, 76996, 109766, 44233, 77003, 44241, 109781, 11479, 109785, 44253, 77022, 77023, 109791, 77025, 44262, 109801, 11500, 11502, 44272, 77043, 11508, 11511, 44286, 109823, 11520, 11521, 11522, 44288, 44292, 77064, 77065, 77068, 77071, 77075, 44308, 109844, 109846, 109847, 11545, 11549, 11551, 11553, 109857, 44323, 11557, 77099, 44334, 11567, 77102, 44338, 44339, 77108, 11573, 44342, 109875, 11578, 44346, 77115, 44351, 11585, 77122, 44356, 44359, 77128, 77129, 11596, 44365, 77133, 109905, 77142, 77147, 109917, 77154, 44387, 109925, 11623, 109930, 77163, 11630, 109934, 11632, 44401, 11644, 44412, 77181, 77182, 44418, 109955, 11656, 44426, 11659, 109964, 77204, 44437, 11671, 109975, 44442, 44443, 44444, 11678, 109989, 109992, 109996, 77231, 77232, 44466, 77239, 11704, 110009, 11706, 44479, 11714, 11715, 44484, 44487, 77260, 77264, 77269, 77270, 11738, 44507, 11747, 110053, 11752, 44522, 110064, 110065, 77300, 77305, 11773, 44547, 77317, 77318, 77320, 44553, 77324, 44558, 110094, 110095, 11799, 77342, 44581, 77350, 77351, 44584, 11817, 44587, 110126, 77359, 11835, 11838, 77376, 110146, 11846, 44616, 44622, 11857, 44627, 77399, 110167, 110169, 77407, 44640, 44644, 44646, 44650, 110186, 110188, 11885, 11886, 77424, 11890, 77428, 110200, 11904, 77444, 11911, 77448, 77451, 110219, 110227, 77460, 11925, 11926, 77461, 77464, 11929, 44698, 110235, 11932, 44704, 110240, 110244, 44709, 11946, 77483, 110250, 11949, 110253, 77492, 77496, 44731, 11965, 77501, 110271, 77506, 110276, 11973, 110277, 110280, 11982, 110286, 11990, 11995, 44765, 110301, 11999, 44771, 12004, 12006, 110312, 77553, 44790, 110327, 44794, 77562, 12028, 44796, 44798, 77563, 110340, 110349, 110355, 44820, 110357, 44822, 110358, 44830, 77601, 12066, 44834, 77605, 110379, 44845, 12085, 44854, 77621, 77622, 110389, 110393, 44859, 110401, 44867, 110408, 77641, 77642, 77643, 110411, 44881, 77650, 77654, 77656, 77657, 77658, 12123, 110424, 12125, 77662, 12127, 110434, 44906, 44907, 12140, 12141, 44908, 110445, 110448, 77682, 44917, 44919, 110458, 12159, 77699, 110467, 110470, 12167, 110472, 12169, 12172, 12173, 44941, 12175, 12180, 77716, 77718, 110486, 44953, 110492, 44962, 77731, 110500, 77733, 12199, 77735, 44972, 110509, 12207, 110511, 110513, 77746, 44984, 12225, 12226, 44998, 44999, 45000, 45001, 45003, 110540, 12241, 110545, 12243, 12246, 12247, 110550, 12251, 77787, 110557, 12254, 45025, 45026, 12267, 45038, 12272, 77808, 110577, 110587, 110591, 77829, 77834, 110603, 77837, 110608, 12308, 12309, 45076, 45086, 77858, 110626, 45093, 110629, 77863, 12328, 77866, 77867, 45102, 45104, 12345, 12346, 12351, 45120, 77890, 110659, 45125, 12360, 110664, 110668, 12365, 110672, 77906, 12371, 45139, 77908, 45145, 77916, 12383, 77920, 12387, 45156, 45157, 45158, 45159, 77926, 110691, 12394, 45162, 12396, 45166, 45167, 45168, 45173, 12409, 12410, 110713, 45185, 12418, 110725, 12422, 77959, 77960, 110726, 12427, 77964, 110731, 77966, 110740, 45206, 45207, 45208, 77975, 110743, 110744, 45212, 77980, 77983, 45217, 45219, 77992, 77994, 110762, 12460, 12463, 45233, 78002, 12467, 45237, 78006, 110773, 110776, 45242, 110787, 45252, 12488, 110795, 45261, 110800, 12499, 110803, 78038, 78039, 45275, 78043, 110813, 12510, 12514, 45285, 110823, 78057, 12522, 78058, 110827, 110828, 110829, 12529, 45298, 78069, 110837, 45305, 12538, 45306, 12540, 78077, 45313, 45315, 45317, 12551, 12556, 45326, 78096, 45332, 12565, 78101, 110870, 45339, 78108, 78111, 110880, 12578, 78117, 12585, 12587, 45355, 110891, 12592, 45360, 110897, 12600, 110909, 12606, 12607, 110911, 110913, 12612, 45387, 12621, 12625, 110931, 12628, 110933, 110942, 12640, 78178, 12644, 78184, 45419, 45429, 45432, 45435, 12674, 110983, 110987, 45454, 12687, 78231, 78233, 78235, 12700, 45469, 78241, 45476, 78246, 78256, 111029, 78268, 78276, 111048, 45518, 12751, 45519, 111057, 111060, 78294, 12760, 111064, 12765, 111070, 111072, 12769, 12770, 45541, 78312, 12778, 78314, 45550, 45552, 111096, 111100, 78341, 78342, 78343, 12808, 45576, 111111, 78350, 111119, 111121, 12819, 45590, 111126, 111133, 12833, 45606, 78374, 78375, 111142, 45611, 12851, 111156, 45621, 78390, 45623, 45624, 12857, 111163, 12861, 78397, 12863, 45634, 12867, 45636, 78406, 45646, 78415, 78416, 12881, 78417, 111183, 78425, 45660, 12896, 45664, 45670, 12903, 78438, 78443, 78445, 78451, 12916, 45685, 12920, 12922, 78459, 111226, 12925, 111231, 45696, 45697, 12932, 78471, 78474, 111245, 12944, 45713, 45717, 12950, 45718, 78487, 111255, 111259, 111265, 12966, 111270, 45739, 78507, 78513, 78514, 12979, 12982, 45755, 45756, 78524, 111295, 12995, 45763, 12999, 78536, 111304, 78538, 111308, 45779, 111319, 45784, 111321, 111323, 78556, 13021, 78559, 45793, 45796, 111333, 45799, 13032, 13033, 111337, 78571, 78572, 13037, 78574, 45807, 78575, 78580, 78581, 45814, 78584, 111357, 111358, 45823, 111359, 78604, 45837, 13071, 13072, 78608, 45842, 111380, 13077, 45847, 111384, 45850, 13083, 13087, 111391, 111392, 13092, 13096, 111406, 13103, 13104, 78641, 111415, 78650, 45883, 45887, 78659, 13124, 78665, 13131, 78669, 13134, 111438, 13136, 13139, 13142, 13146, 13147, 45914, 45917, 78684, 45919, 13152, 78686, 111455, 45926, 13162, 45935, 45936, 13171, 13175, 45948, 78727, 45962, 13197, 78733, 45967, 13200, 45969, 111503, 45973, 78745, 111513, 45981, 45984, 78755, 45991, 13224, 45993, 78761, 45996, 13231, 46003, 78773, 46006, 111544, 111547, 46014, 13247, 13248, 78784, 111550, 111566, 46032, 13265, 46033, 46035, 111574, 78808, 13273, 46043, 111584, 111586, 13284, 78832, 13297, 13298, 78833, 111604, 46072, 46074, 111617, 13317, 78854, 46087, 111621, 46089, 78857, 78858, 78860, 13326, 78863, 111631, 46102, 78870, 13336, 78874, 78877, 111646, 46111, 13345, 111657, 46122, 46124, 111661, 78900, 111669, 78906, 46141, 78911, 46144, 13380, 46148, 78917, 111685, 46152, 78920, 78921, 111689, 46157, 13396, 111701, 13399, 13402, 78938, 13406, 111710, 13408, 78944, 46181, 111724, 46195, 111731, 78966, 13431, 13434, 111739, 13440, 46208, 111750, 78984, 13456, 46225, 46226, 13470, 111777, 13474, 79011, 13486, 111790, 111794, 13491, 79030, 111798, 111807, 13504, 111811, 46279, 79055, 13520, 13525, 111833, 79067, 111835, 111843, 46308, 46312, 79080, 13551, 46320, 79088, 79093, 111862, 13559, 46328, 13562, 111871, 111872, 111874, 13575, 111882, 13579, 111886, 13585, 13587, 111891, 46357, 79126, 46370, 111906, 111910, 79143, 13612, 46382, 111921, 13618, 13620, 111925, 79159, 46397, 79165, 46399, 13632, 79166, 111943, 46408, 46409, 79177, 13643, 111944, 111947, 111957, 79190, 46423, 13656, 13658, 111964, 79197, 111973, 13670, 79206, 13680, 13683, 46452, 111989, 46461, 79229, 111999, 79236, 46469, 112010, 13707, 46477, 79247, 112015, 46481, 79249, 79253, 112029, 79263, 79264, 79268, 46505, 46510, 79278, 13746, 112050, 112052, 79286, 13752, 79288, 112061, 46528, 46534, 79303, 112072, 79305, 46538, 79307, 112074, 13776, 46544, 46549, 112089, 13786, 46556, 13789, 79328, 46561, 79329, 46565, 112106, 79342, 13809, 79345, 13811, 46581, 13820, 13822, 46594, 79362, 13828, 79364, 112137, 13836, 112140, 46614, 79384, 112152, 46619, 79388, 79389, 79391, 46627, 13862, 46633, 46634, 13867, 13868, 46636, 79407, 79409, 79410, 46646, 46647, 79416, 112185, 46654, 46658, 112197, 112198, 13901, 79443, 13912, 112219, 13923, 46691, 79460, 112228, 79467, 46700, 79469, 46702, 13935, 46705, 112244, 112246, 112247, 13944, 13945, 112253, 46718, 13951, 46719, 46732, 13974, 46745, 13983, 112291, 13988, 112293, 79527, 13993, 79534, 112303, 46768, 46771, 79540, 14006, 14007, 112312, 14011, 14012, 14013, 79551, 112321, 46789, 14025, 46795, 14034, 79572, 112341, 14043, 46816, 46821, 14056, 112360, 46826, 14060, 14061, 14063, 112371, 79604, 79610, 14075, 112379, 46845, 112385, 14083, 46851, 112387, 79623, 79625, 112394, 79628, 14102, 79638, 112409, 14107, 112413, 79649, 46886, 14119, 79655, 79659, 46895, 46896, 79671, 14136, 14137, 79679, 46913, 112456, 112464, 79699, 14164, 112470, 14169, 112473, 79714, 46947, 79721, 14186, 46954, 79723, 112490, 79733, 14198, 14203, 79739, 46973, 79744, 46980, 46985, 112524, 14232, 79769, 14236, 79772, 14243, 47012, 14248, 112552, 47027, 112565, 47033, 79802, 47043, 112593, 112594, 47059, 79827, 112596, 14294, 112597, 14298, 14301, 47070, 14310, 112615, 14316, 79856, 47091, 112629, 79863, 112632, 14330, 47099, 112634, 112635, 14344, 79881, 14347, 14349, 112655, 47121, 79889, 14356, 47129, 112673, 112674, 47139, 79908, 112680, 14377, 14383, 79919, 14385, 112689, 112691, 79927, 47161, 79929, 47165, 14398, 79933, 79936, 47177, 79945, 47181, 112717, 14415, 47184, 14419, 14420, 112728, 112730, 112740, 79973, 112742, 14441, 112746, 112748, 47215, 47216, 79984, 14451, 47221, 14453, 79993, 47226, 14463, 47232, 14465, 14468, 80007, 47244, 47249, 112791, 80025, 14490, 112795, 14494, 14497, 80035, 14501, 112809, 47275, 47277, 47278, 14514, 14520, 47289, 47290, 112824, 80064, 47298, 80068, 80071, 112844, 14541, 80083, 47319, 112857, 80092, 80096, 14561, 14562, 47329, 80097, 112865, 14567, 112873, 112877, 14574, 14576, 14579, 80120, 112892, 14594, 47367, 80136, 47369, 14603, 80145, 14615, 47384, 112919, 47386, 47387, 112920, 47391, 14626, 14627, 80163, 112932, 112933, 80171, 112939, 14639, 14641, 14644, 80181, 80183, 47417, 47418, 80189, 80191, 112961, 47427, 14662, 14663, 47432, 47434, 80202, 47438, 112980, 14678, 47447, 47451, 14686, 112990, 112992, 112993, 112996, 112999, 80235, 47472, 47473, 14706, 80242, 113012, 80248, 47483, 14716, 47484, 47486, 80256, 47493, 80261, 113034, 80268, 47507, 14740, 14741, 47508, 47510, 47512, 47514, 14754, 113062, 47527, 14769, 113077, 14781, 47551, 47553, 80323, 14788, 47567, 113103, 80337, 14805, 80341, 80343, 14808, 47576, 47577, 47578, 47580, 113113, 47586, 113124, 80359, 80360, 113131, 113132, 47599, 113136, 80369, 47605, 47609, 113145, 14843, 47612, 113149, 14846, 80382, 80384, 47619, 47622, 80393, 113162, 80400, 14865, 80402, 47636, 14869, 47642, 47643, 113180, 113181, 80418, 14884, 47652, 113188, 113189, 80428, 14895, 47665, 14904, 47672, 80441, 80442, 47676, 80445, 113215, 113216, 14914, 47682, 80450, 113218, 113225, 47692, 47693, 47694, 14927, 113230, 113233, 47698, 47699, 14932, 47700, 14934, 80466, 14936, 47705, 47706, 80475, 113244, 47710, 113248, 14947, 14952, 113259, 14957, 80495, 80497, 14962, 47732, 113272, 80505, 113273, 14975, 47744, 80511, 14978, 113287, 14985, 113293, 47758, 80527, 14993, 80530, 113300, 80536, 15005, 47773, 113310, 47776, 15012, 80550, 113318, 15017, 15018, 47788, 80562, 15029, 15036, 47804, 80576, 15041, 80580, 80583, 80600, 113369, 15067, 80604, 15069, 47837, 47838, 80606, 113373, 113377, 113382, 15084, 113390, 113396, 80630, 15097, 47866, 47867, 15105, 47874, 113411, 80644, 15117, 15118, 113422, 113424, 15122, 113426, 47892, 15126, 80671, 113440, 113442, 47910, 113446, 15145, 47914, 15147, 47918, 80686, 15158, 80695, 15160, 47928, 47929, 15170, 113474, 15173, 15178, 80718, 80720, 15189, 113496, 80730, 15197, 113503, 15200, 47968, 47969, 80738, 80740, 47974, 113514, 80748, 47981, 113517, 80752, 80753, 113523, 80756, 15221, 15226, 113531, 80764, 15231, 80769, 15234, 48003, 15235, 80775, 15240, 80777, 113544, 15248, 113552, 113554, 80789, 113559, 15257, 113562, 15261, 48029, 15266, 15268, 80810, 48044, 80817, 15293, 113600, 15303, 80839, 113607, 80843, 48081, 48083, 113625, 48093, 48094, 80861, 15332, 80870, 80872, 113644, 15341, 15342, 113648, 113650, 80884, 113652, 15351, 48122, 113660, 80893, 15367, 113673, 48141, 80910, 113677, 113680, 48149, 80922, 15388, 48157, 80924, 15391, 80925, 80926, 113693, 48163, 113695, 113699, 113703, 48169, 15402, 48171, 80937, 80938, 80939, 80941, 80944, 80946, 113715, 48180, 48181, 113718, 113721, 113723, 48188, 15423, 80960, 113729, 113730, 113731, 15432, 48204, 15438, 48206, 15440, 80982, 113753, 80986, 80989, 81001, 113770, 15468, 15469, 48244, 15478, 15479, 113784, 113787, 15485, 113790, 15488, 81027, 113795, 48262, 81031, 48264, 15500, 113808, 81044, 113812, 81046, 15515, 15516, 48285, 48286, 113820, 81056, 15521, 81057, 113823, 81063, 15528, 48296, 113833, 81069, 15538, 113842, 48308, 81076, 113847, 48312, 113850, 81083, 113854, 113855, 113856, 113860, 113861, 81094, 48327, 15560, 81096, 113863, 113868, 81102, 15574, 15576, 48345, 81112, 113883, 48349, 48353, 15587, 48355, 15589, 48356, 15591, 81127, 113896, 81132, 113900, 15601, 113907, 113912, 113926, 81162, 48399, 15634, 81173, 81176, 48410, 48416, 113953, 113955, 48420, 81191, 15660, 81196, 48430, 48431, 48438, 81206, 48441, 81213, 113981, 48447, 113985, 81225, 48468, 15701, 15702, 81239, 114004, 48473, 114007, 81243, 15708, 48479, 114016, 15720, 15732, 48503, 81272, 114040, 15740, 48509, 48512, 81281, 15751, 48519, 114056, 48523, 114060, 15761, 48530, 81298, 114070, 81306, 114075, 114077, 48542, 48547, 15780, 81318, 114089, 15787, 114093, 15790, 114102, 15799, 114104, 15802, 15803, 114112, 48577, 81348, 48582, 15815, 15817, 15819, 81356, 81358, 81360, 81364, 15832, 81369, 114138, 48603, 15839, 114143, 15844, 48614, 81388, 114157, 114160, 81395, 114163, 81397, 15862, 15863, 48632, 114171, 81407, 48642, 48652, 15885, 15886, 48655, 81422, 81426, 48659, 114194, 114197, 81430, 114203, 48674, 48680, 81450, 15915, 15916, 114220, 48687, 114223, 114226, 114227, 48694, 48695, 15932, 15936, 114241, 15940, 114244, 15942, 81479, 15944, 81480, 48714, 81489, 15955, 48726, 114263, 15964, 81501, 81502, 15975, 48744, 81512, 15978, 114282, 81517, 81518, 81519, 48752, 114287, 114290, 48756, 114294, 48760, 16001, 48770, 114310, 81546, 81548, 114316, 114321, 16018, 16019, 114325, 16022, 48794, 48795, 16032, 81569, 16034, 48814, 81582, 16048, 16049, 16052, 81588, 48822, 81596, 48831, 114367, 81614, 114391, 16088, 81628, 16093, 48866, 16100, 81636, 114405, 48871, 48873, 16107, 16112, 48881, 48882, 48884, 114422, 16119, 16120, 48891, 48892, 114428, 48894, 81665, 16130, 81669, 114437, 48908, 16141, 81677, 114449, 81684, 114457, 48923, 48924, 81692, 16158, 48927, 81696, 114459, 81708, 114476, 48943, 114481, 81715, 16180, 114483, 114485, 16183, 48955, 81724, 114493, 81727, 48960, 16196, 81734, 114502, 81736, 114504, 81739, 114507, 114508, 114512, 114514, 16215, 81753, 48987, 48991, 81759, 81760, 48994, 114529, 81765, 114534, 114536, 49002, 81771, 81785, 16252, 16253, 49022, 114560, 16259, 81796, 81798, 49035, 16268, 81803, 81804, 81808, 114578, 16280, 49048, 81819, 49055, 49056, 16293, 81830, 16297, 81838, 81839, 81845, 81847, 114616, 16313, 81855, 114623, 49093, 49094, 81861, 114635, 49103, 16336, 114644, 49110, 16343, 114650, 16349, 16350, 16352, 49122, 49124, 114660, 81894, 114661, 16361, 81900, 81903, 114675, 16373, 49142, 114681, 81916, 114684, 16383, 114688, 114690, 114691, 16388, 16389, 49158, 81927, 16393, 114698, 49163, 81934, 16399, 16407, 16408, 81948, 81952, 81954, 81959, 49192, 49193, 114729, 114732, 114737, 16435, 81972, 49205, 49210, 16448, 16449, 49216, 16452, 114757, 49224, 49227, 49229, 49232, 49233, 16468, 49241, 114781, 114783, 16481, 82024, 49257, 16492, 114796, 114797, 114803, 16501, 49269, 82039, 49276, 49277, 114822, 49288, 82056, 49290, 82058, 16525, 49294, 82065, 16535, 114843, 82076, 114846, 114847, 49312, 49314, 49319, 49322, 82092, 49325, 82093, 114865, 114873, 114877, 16575, 49350, 49354, 114893, 16594, 49363, 82131, 82138, 114908, 82141, 82142, 82143, 16608, 16610, 114914, 114918, 82160, 49396, 114935, 49400, 49402, 49403, 114938, 49414, 114950, 16654, 114959, 114962, 82197, 49430, 16664, 82201, 49435, 82215, 16681, 16691, 49459, 82228, 114997, 16695, 16696, 16701, 16702, 82237, 82239, 115006, 49474, 82244, 82246, 49479, 49480, 82248, 82249, 115017, 16716, 49485, 115020, 115025, 82259, 115027, 115030, 49501, 49506, 82275, 115043, 82280, 115050, 82284, 16749, 115055, 115056, 16756, 49524, 82296, 16763, 115071, 49536, 82306, 115074, 115075, 115077, 49543, 115079, 16779, 16782, 49555, 82325, 16790, 16792, 49560, 49562, 115100, 49566, 16800, 16801, 82336, 82338, 49578, 82351, 115120, 82353, 115121, 16820, 82360, 82364, 16830, 82367, 49603, 49610, 16843, 49612, 82382, 49617, 115153, 49619, 49621, 16855, 49623, 82391, 16860, 49628, 82397, 49631, 49632, 115164, 115168, 49635, 115170, 49638, 115175, 115177, 16874, 115181, 115182, 82420, 49657, 115193, 16891, 82428, 16893, 16894, 16896, 49667, 82440, 49673, 82445, 49679, 115221, 82454, 16928, 82465, 101058, 16932, 82469, 16934, 115238, 16936, 82475, 16940, 115246, 82481, 82485, 16951, 16952, 115257, 82490, 115260, 49726, 49728, 115264, 115266, 16963, 49734, 82502, 82504, 82506, 16972, 115277, 16975, 82516, 82520, 49753, 16986, 115295, 115296, 82531, 49765, 16999, 115303, 115305, 49772, 49773, 49780, 82549, 82550, 17019, 17020, 115325, 17025, 17026, 82562, 115331, 49798, 17033, 82581, 82591, 17061, 49829, 49831, 17065, 82603, 17069, 115375, 82620, 17085, 17089, 17098, 49866, 82634, 82637, 115405, 115407, 115408, 17105, 17109, 82648, 115417, 17115, 115422, 49887, 17121, 82658, 115430, 17129, 82666, 115435, 49900, 82668, 82669, 115437, 82675, 17140, 115445, 82683, 82696, 17165, 17166, 49933, 82702, 17169, 82705, 49942, 115479, 115481, 49947, 115486, 115494, 49964, 82733, 17198, 17199, 82739, 115507, 17205, 17207, 49975, 49978, 17213, 82749, 17217, 49985, 49986, 115525, 115528, 17226, 82763, 115530, 17229, 50002, 82770, 17237, 50006, 82775, 115545, 115549, 50015, 50016, 82784, 115551, 82789, 17255, 82796, 17266, 50036, 50037, 82806, 82809, 50043, 50044, 17277, 115581, 50048, 115591, 115597, 82834, 115607, 50083, 82853, 82855, 82858, 82866, 50099, 17340, 50109, 17342, 115645, 50113, 17350, 115654, 115655, 50122, 50124, 82893, 50126, 50127, 17371, 82910, 82911, 115678, 50146, 115684, 82917, 50151, 115689, 115690, 82929, 82934, 115706, 50178, 115714, 17413, 82949, 115722, 82955, 115726, 50191, 115732, 82966, 50204, 17439, 82978, 17444, 50217, 50222, 115759, 17462, 82998, 17465, 83001, 50235, 17469, 50237, 83008, 115776, 50243, 17476, 17477, 50246, 17479, 50255, 83025, 83026, 115793, 83033, 50269, 83038, 50272, 17506, 17507, 115810, 115811, 50278, 83049, 115818, 17518, 115825, 17525, 83068, 83070, 115838, 17536, 17544, 83081, 50314, 115850, 83085, 83088, 83094, 50340, 17573, 115877, 115879, 83112, 17577, 50351, 50353, 115899, 17596, 50364, 83133, 83134, 115900, 115903, 115908, 83144, 115913, 50378, 50379, 17612, 115917, 115919, 83152, 50386, 50388, 115926, 83163, 17631, 50402, 50403, 83174, 50412, 115949, 115950, 83188, 50428, 17663, 115967, 83207, 17673, 115977, 115980, 50445, 83215, 83220, 50455, 83225, 83234, 17699, 116004, 50469, 83237, 83238, 50472, 17706, 83242, 50477, 17710, 116013, 50483, 116020, 17717, 83253, 83254, 50488, 83257, 50496, 17732, 50501, 50502, 83269, 116040, 116042, 116052, 83287, 116056, 50522, 83293, 116061, 83296, 83297, 50531, 83305, 83308, 83309, 83321, 116089, 17788, 17790, 50558, 50561, 17797, 50565, 116102, 17801, 50571, 50577, 50579, 116120, 83355, 83358, 116127, 17827, 116133, 17830, 116135, 83368, 116136, 116139, 50607, 83375, 116143, 50610, 17843, 116146, 17861, 50631, 50639, 17876, 50645, 17880, 116184, 50653, 83421, 116189, 17891, 50661, 50664, 50665, 116202, 83439, 17904, 50672, 116208, 83447, 50684, 50685, 17921, 83461, 116234, 17934, 83471, 83472, 83474, 17940, 17941, 116248, 83482, 83483, 83486, 116254, 83488, 83489, 116259, 17958, 116269, 17967, 17970, 116274, 50741, 17974, 50746, 50750, 17985, 17986, 17990, 50761, 116300, 17999, 50770, 83544, 18009, 83545, 83546, 116315, 18016, 50784, 83553, 50788, 50790, 50792, 116329, 83562, 18027, 116330, 83565, 18030, 116337, 18036, 50812, 83586, 116356, 83597, 50831, 18065, 116371, 116376, 18075, 50846, 50848, 18082, 18085, 116392, 116393, 83628, 50864, 83636, 18101, 83637, 116405, 50878, 83646, 83648, 116414, 50886, 116428, 83661, 18126, 116430, 83664, 18129, 18130, 116435, 18135, 50907, 116447, 83680, 116449, 83685, 50923, 116466, 18164, 83705, 116475, 50941, 18178, 116484, 116485, 50950, 18184, 83721, 18186, 18188, 18191, 50959, 83727, 83728, 50963, 83730, 83731, 83732, 83734, 116501, 83737, 18203, 116511, 83756, 18221, 18223, 116532, 50997, 51003, 51004, 83775, 116545, 18242, 116546, 18244, 116547, 83783, 83784, 116562, 18261, 116565, 116568, 116575, 18280, 51055, 116592, 51061, 116601, 83838, 18303, 18309, 18312, 18318, 51086, 51087, 51088, 83856, 83857, 18325, 83862, 116632, 83865, 18331, 83869, 18339, 83875, 116645, 18343, 116647, 83883, 83886, 116659, 116661, 83894, 83899, 116668, 83904, 51137, 18370, 51138, 116672, 51144, 83915, 116683, 51149, 51152, 83922, 51155, 18388, 83925, 116692, 83929, 116697, 51164, 18398, 51167, 18405, 83942, 18407, 51175, 83945, 116714, 51182, 116729, 51196, 18429, 83969, 116737, 18435, 51204, 116743, 51209, 83979, 18444, 116750, 116751, 83985, 18452, 18453, 83992, 18457, 18459, 18461, 51230, 116766, 116767, 18471, 18472, 18475, 18476, 116780, 18478, 84015, 116789, 51255, 84026, 116795, 18494, 84032, 84034, 18500, 18505, 84042, 18507, 18508, 51276, 18514, 84050, 51286, 116825, 18522, 18524, 51292, 116831, 51300, 18534, 84071, 84073, 18538, 116845, 18544, 116849, 18554, 116862, 18560, 18561, 84098, 116867, 84102, 51335, 18568, 51337, 51345, 116882, 84116, 116890, 51359, 18592, 51360, 51362, 51363, 84130, 84136, 84141, 18606, 116910, 51376, 84144, 51378, 18613, 51385, 116921, 51393, 18627, 18628, 116936, 51404, 84172, 84174, 116940, 18640, 116943, 18642, 116944, 84181, 116949, 51419, 18652, 84189, 116959, 51428, 51431, 51432, 18665, 18668, 18669, 18670, 18671, 116977, 18674, 18676, 18681, 116986, 51454, 84226, 116995, 116996, 116997, 18695, 84235, 51469, 51472, 51473, 117009, 84250, 84259, 18725, 18726, 51496, 84265, 18731, 84269, 18738, 18742, 51510, 117051, 117057, 84293, 18758, 84294, 117061, 51529, 84298, 117069, 18766, 84305, 117073, 51549, 84319, 51554, 51555, 18788, 84326, 84327, 18792, 84329, 51562, 84330, 51564, 117102, 84344, 117112, 84347, 117120, 84353, 51587, 117124, 18822, 51591, 18824, 18825, 18826, 84360, 51597, 117133, 117136, 18834, 84372, 84373, 18840, 18848, 117152, 84386, 18851, 18852, 18853, 51620, 84387, 84390, 84391, 117153, 84400, 51633, 18869, 51638, 84407, 84408, 18876, 51645, 51650, 117189, 117190, 84423, 117194, 84427, 18894, 84434, 84440, 117213, 117216, 117220, 51690, 117226, 18925, 117229, 18927, 18930, 51706, 84474, 117245, 117247, 117250, 117252, 117253, 84486, 18951, 84487, 84488, 18955, 51727, 18962, 51730, 117266, 51735, 84504, 18977, 117285, 84521, 51757, 18991, 18992, 18993, 18994, 117295, 117296, 51767, 84535, 84537, 117303, 51772, 117309, 19007, 51780, 84554, 117322, 117328, 117329, 84564, 117335, 19036, 19038, 19040, 51813, 19046, 117349, 19049, 51820, 51821, 84590, 19058, 51827, 84605, 117376, 117381, 117382, 117383, 117385, 19083, 117389, 19091, 19096, 84636, 19101, 19102, 117412, 19111, 51880, 51881, 84653, 51886, 117425, 84660, 19125, 51894, 117428, 51898, 84667, 51904, 84676, 51909, 84678, 51911, 117444, 51921, 84690, 19157, 117461, 117468, 84701, 51941, 51942, 84709, 84714, 51948, 84716, 51950, 51958, 19191, 84726, 19194, 84733, 117503, 19204, 117511, 19208, 117515, 117520, 51987, 19220, 51989, 19223, 117528, 19226, 117532, 84765, 117535, 19234, 52004, 84776, 117547, 19245, 84785, 117554, 117559, 84795, 84797, 52030, 19265, 52034, 84801, 117572, 19269, 84805, 117576, 84810, 19279, 52054, 84823, 19291, 52065, 52068, 52069, 52070, 84844, 84846, 19311, 52079, 117614, 52083, 19316, 19317, 117623, 52090, 19324, 19326, 52098, 19333, 19334, 52101, 84873, 19338, 19343, 19344, 84882, 52115, 117651, 84885, 117654, 117656, 19355, 19359, 117669, 117672, 117673, 84906, 52142, 84911, 117682, 84921, 19386, 84923, 84924, 52157, 84927, 117696, 19394, 117700, 19397, 84934, 84935, 84936, 19405, 84945, 117715, 52180, 84951, 117720, 84953, 52189, 117726, 19425, 84963, 52198, 52204, 84976, 52212, 117759, 84993, 19458, 52229, 19462, 52231, 19464, 117768, 117769, 19468, 85009, 19475, 52248, 85016, 52251, 52252, 117790, 85024, 19489, 117795, 52263, 85034, 117803, 19501, 117811, 117820, 19518, 117823, 85058, 52291, 85059, 117826, 52294, 52298, 52299, 85066, 85072, 117840, 19541, 117846, 52311, 117853, 85086, 19552, 85094, 19560, 85096, 52331, 117870, 117875, 85110, 117878, 117879, 19580, 19588, 52356, 52357, 117892, 117896, 52363, 117907, 19604, 52377, 117913, 52379, 19614, 117918, 85153, 117922, 85157, 19624, 19625, 85163, 19630, 117938, 52403, 52407, 117950, 85183, 117956, 19655, 19657, 117961, 52433, 52437, 52449, 19687, 85223, 117995, 117996, 19695, 52464, 52467, 19700, 118005, 118009, 52474, 118010, 85244, 85248, 52481, 52482, 19715, 85252, 52485, 85253, 118016, 85257, 85262, 118030, 52503, 85271, 118040, 19738, 19739, 85275, 52510, 52511, 85289, 19756, 85292, 85293, 118065, 118069, 52535, 118072, 118079, 19780, 118089, 85323, 52556, 85326, 19791, 52562, 19795, 52564, 118101, 118102, 52569, 19802, 52571, 85342, 85347, 118115, 19813, 85349, 85352, 19817, 85355, 52591, 19824, 118127, 52594, 19828, 19829, 52597, 85365, 52600, 118133, 118140, 52606, 52607, 19840, 19841, 118146, 85380, 118150, 118151, 52616, 19850, 118168, 19866, 85405, 85407, 52642, 19875, 85415, 52657, 52660, 85429, 85430, 52664, 85432, 85433, 19901, 85438, 118206, 52672, 118209, 52675, 52681, 52682, 118219, 19916, 52687, 118223, 85457, 118226, 85460, 118228, 118230, 118232, 85465, 118235, 118236, 19933, 85471, 85472, 52705, 118240, 52707, 19941, 52720, 118264, 52730, 19964, 19967, 52735, 85513, 85514, 85516, 118288, 19985, 85522, 19989, 118294, 85527, 19992, 85532, 118300, 19998, 19999, 52768, 118306, 20003, 20004, 118309, 118311, 118312, 118313, 20011, 118315, 52781, 85550, 20015, 20016, 52785, 118320, 20021, 118327, 52793, 20037, 20039, 20040, 20047, 85586, 118355, 118359, 20063, 118369, 118370, 52835, 118371, 52838, 85608, 118378, 118379, 85614, 85615, 85618, 85620, 20086, 118390, 20089, 52858, 85625, 118393, 20096, 118407, 85644, 20111, 52879, 20113, 20114, 52883, 85655, 118425, 52892, 85668, 52901, 52902, 52907, 118452, 52918, 85692, 118460, 118462, 20159, 118464, 85699, 20164, 118467, 52939, 118480, 85721, 118490, 20187, 85723, 20198, 20200, 20201, 85744, 20210, 85750, 20221, 20224, 20225, 20226, 52993, 85768, 118537, 85773, 53011, 118547, 53013, 85781, 53015, 85783, 85786, 53023, 20259, 85795, 85796, 85797, 20263, 118573, 118578, 20275, 118583, 53050, 20284, 53062, 85832, 53067, 118603, 20303, 85844, 118615, 118621, 85856, 20322, 53092, 118628, 118630, 53102, 118638, 20337, 85873, 53107, 118644, 85880, 20350, 85886, 20353, 118658, 85892, 118660, 53126, 118661, 20360, 85896, 20364, 53133, 85900, 85901, 118670, 85917, 20383, 53151, 20387, 85926, 85928, 53167, 118703, 20402, 53171, 53172, 20410, 85947, 118717, 20415, 53183, 85951, 118720, 53187, 85957, 118739, 85976, 85978, 20443, 53212, 118759, 53225, 85995, 118764, 20466, 118773, 53238, 118775, 53246, 118784, 118785, 118789, 53254, 53256, 118792, 86030, 86031, 20496, 20503, 53277, 53287, 53288, 118826, 20524, 118833, 20530, 53304, 86076, 118844, 20543, 86083, 20548, 118853, 53318, 86087, 20552, 53322, 86091, 20558, 118864, 86098, 53331, 53332, 53333, 86100, 53336, 20569, 20570, 86104, 118876, 118884, 118886, 20585, 118891, 20588, 53356, 86126, 53359, 118894, 118895, 53362, 118896, 86133, 20603, 118908, 20606, 20615, 53384, 118920, 20620, 20625, 86163, 20628, 86165, 86166, 86168, 118938, 118939, 20640, 53408, 118948, 86182, 118950, 20658, 20660, 20662, 53432, 53434, 118971, 20673, 86210, 118979, 20677, 53447, 53448, 20681, 53450, 86219, 118984, 53457, 53459, 53462, 20700, 119004, 86238, 119006, 20707, 86246, 119014, 86248, 119015, 119018, 20717, 53498, 86268, 119040, 20740, 86279, 53514, 86285, 20750, 119053, 20755, 86291, 119061, 86295, 20761, 53530, 119068, 20765, 86304, 86305, 119073, 53541, 53542, 53543, 53545, 53547, 86319, 119087, 20792, 119097, 119101, 20799, 53568, 86336, 119103, 119106, 20806, 53574, 53575, 20810, 86347, 20812, 119114, 20817, 119125, 119126, 53602, 86370, 20837, 86374, 86375, 53609, 20842, 20844, 119158, 53624, 20858, 119165, 86408, 119176, 119179, 20876, 20877, 53646, 86416, 119184, 119186, 20886, 119190, 53661, 53662, 119199, 53667, 20901, 86437, 20903, 53671, 53673, 119218, 86452, 86455, 20921, 53689, 86458, 119225, 119226, 86464, 119235, 86470, 86474, 119243, 119244, 119245, 86480, 86481, 86482, 86486, 86493, 20960, 53728, 86497, 119264, 119265, 86501, 86502, 86505, 119273, 119275, 119278, 53743, 53744, 20978, 53747, 20982, 119287, 20984, 86520, 20986, 119288, 86527, 53762, 86533, 119305, 86539, 119308, 86544, 119313, 53778, 86546, 21012, 86550, 21015, 53783, 53784, 86552, 86554, 119318, 21022, 53793, 21026, 119329, 53796, 86564, 119332, 119335, 119337, 21035, 53803, 53806, 21040, 86576, 86578, 86579, 119353, 21051, 53822, 53823, 86595, 21060, 53828, 119364, 119367, 21066, 119370, 21072, 21073, 21074, 53843, 86611, 119380, 119382, 21084, 86623, 21091, 53862, 119402, 53868, 53870, 119408, 21109, 53877, 119413, 119416, 119418, 53884, 53888, 53889, 86665, 53898, 119434, 53902, 53905, 53906, 119443, 53910, 86678, 86680, 21145, 21147, 119452, 21152, 119457, 21156, 53924, 86695, 21164, 21169, 21171, 86707, 21174, 119479, 21178, 53953, 119489, 86723, 53957, 53960, 119498, 119503, 53976, 53977, 119512, 86747, 119513, 21214, 86752, 119522, 119524, 86758, 21225, 21226, 119530, 21228, 86764, 54002, 119539, 54005, 86774, 86775, 54009, 86777, 54012, 21246, 21247, 21252, 86790, 86791, 21256, 54024, 54026, 21263, 86800, 119568, 86803, 54039, 54041, 119579, 119583, 86820, 119590, 21287, 86824, 119591, 21292, 54062, 86833, 54066, 21299, 21300, 86837, 119607, 21306, 54079, 54084, 119624, 86857, 21323, 21326, 54096, 21329, 54097, 86869, 54102, 54104, 119643, 54109, 86880, 86882, 54117, 86886, 119653, 86888, 21354, 119658, 54124, 119660, 119667, 86901, 21366, 119675, 21372, 54142, 119678, 54148, 86926, 119696, 119700, 54174, 54177, 21410, 21412, 54184, 86958, 86959, 54193, 54194, 86961, 86964, 21430, 21431, 54200, 86966, 119737, 119740, 21438, 119742, 21440, 21445, 54214, 54215, 119751, 119754, 119760, 54225, 119763, 86997, 87000, 119768, 119770, 54235, 119772, 87010, 21477, 54245, 119783, 21482, 119787, 21486, 54255, 87024, 54257, 21492, 119799, 54265, 21499, 119808, 54274, 54285, 87053, 21519, 21520, 119821, 87063, 21528, 54297, 21530, 54298, 119834, 87069, 21534, 87071, 119835, 21537, 119847, 54318, 21555, 54326, 21559, 87096, 87097, 21562, 21566, 54336, 119874, 87114, 54347, 21585, 87122, 119892, 54358, 54363, 119905, 119906, 87139, 119908, 21606, 21615, 54385, 119921, 119924, 119926, 119931, 87164, 119936, 54405, 119943, 87177, 54410, 54415, 87184, 119959, 54424, 119961, 119963, 21660, 21662, 21665, 54436, 87206, 21673, 54442, 54444, 87213, 54446, 54447, 119984, 119988, 54454, 87222, 119993, 119996, 119998, 54464, 21697, 54474, 21707, 21708, 54477, 87245, 21712, 87249, 54482, 120020, 21717, 54486, 87256, 54493, 120036, 120038, 54503, 120040, 54506, 87276, 21741, 87279, 21744, 87280, 21746, 120047, 120052, 21764, 21767, 87305, 21770, 87307, 21774, 54543, 87310, 21777, 120081, 87315, 54549, 21784, 54552, 54558, 87326, 87328, 21793, 54563, 87331, 87332, 87334, 21801, 87339, 21804, 87343, 54576, 120115, 87358, 120128, 21827, 87366, 87367, 21833, 120138, 21835, 120147, 120149, 120150, 54615, 21848, 87383, 87385, 120157, 87392, 87398, 21864, 54633, 21868, 54637, 21872, 87408, 21874, 87412, 54645, 120182, 21879, 87416, 87419, 120189, 21886, 54656, 87431, 120201, 54666, 87434, 54669, 87440, 21911, 54685, 21919, 54687, 120227, 120236, 21934, 21937, 87475, 21940, 54708, 120251, 120254, 87487, 120258, 120260, 120270, 21969, 120280, 54748, 120284, 21983, 87520, 21985, 54757, 54759, 21994, 87531, 87536, 22001, 87540, 22005, 120308, 120309, 22008, 87545, 54778, 22011, 54782, 54787, 120323, 87559, 87563, 120334, 87568, 54801, 87570, 22036, 87576, 120344, 22043, 54812, 54813, 22047, 87583, 87585, 22052, 54820, 87592, 87593, 54826, 87596, 120366, 87601, 87602, 120370, 22068, 54839, 120375, 54841, 120379, 120381, 120387, 54854, 22087, 22088, 54855, 120396, 54861, 87629, 54864, 22099, 22100, 87635, 87636, 22104, 87642, 120416, 22115, 22120, 120424, 22125, 54893, 87661, 54896, 54897, 120437, 54903, 120440, 87674, 54908, 87678, 54917, 54919, 120455, 54923, 54928, 120464, 22167, 87703, 87704, 54940, 120476, 54942, 54943, 120481, 54949, 54950, 120486, 54952, 54953, 120487, 22188, 54956, 120501, 87739, 87740, 54973, 120507, 87743, 54986, 22220, 54991, 120527, 120531, 54996, 54998, 87769, 55003, 87774, 87775, 22240, 120542, 120547, 55012, 87783, 22248, 120552, 87787, 55022, 22255, 87792, 120558, 22262, 87799, 22265, 120572, 22272, 87811, 55048, 55059, 55062, 55063, 22299, 87835, 120604, 22306, 22311, 22325, 55093, 120633, 55099, 55106, 55107, 120643, 22349, 120655, 87888, 120657, 55128, 120664, 55134, 22368, 120673, 22381, 55149, 22387, 55156, 87925, 120693, 120694, 87929, 22394, 120700, 55165, 87938, 120707, 55173, 22409, 87945, 22417, 55185, 55190, 22426, 120736, 22434, 55204, 120740, 55206, 120741, 22449, 55217, 120754, 87988, 55231, 22471, 55239, 22473, 88017, 22485, 88022, 120791, 22488, 55258, 22492, 88028, 88033, 22499, 22500, 120803, 88038, 55271, 55273, 55274, 88043, 88048, 120816, 120817, 55284, 88053, 55286, 88056, 55289, 22522, 88059, 120826, 88065, 22530, 120833, 55302, 88071, 22536, 22537, 55309, 88082, 88083, 120850, 22553, 55325, 88097, 120866, 120867, 55332, 120874, 55340, 88108, 120877, 22575, 55348, 88116, 22584, 88121, 22588, 22592, 22593, 55362, 88128, 120898, 120905, 88142, 120914, 22614, 22616, 88152, 88154, 88155, 22625, 120931, 55398, 22633, 55402, 120939, 55408, 22642, 22643, 22645, 88182, 88183, 22650, 120958, 120960, 55426, 88197, 120967, 22664, 88205, 22671, 88207, 120976, 22674, 55443, 120981, 120990, 22691, 22692, 120995, 22696, 88234, 22699, 121011, 121015, 22713, 88250, 88251, 88252, 121018, 121027, 22728, 121037, 88270, 22736, 55509, 121049, 55514, 22748, 121057, 88290, 121059, 22756, 55524, 55525, 121063, 121067, 22765, 55534, 88310, 55546, 22784, 88321, 22786, 55561, 121101, 88338, 22805, 22808, 55578, 22815, 88352, 55587, 88356, 55591, 55592, 88362, 22829, 55603, 22836, 88375, 22845, 88384, 22853, 55629, 121165, 22865, 88403, 121174, 55640, 22875, 55645, 88414, 121181, 88420, 121190, 121193, 121196, 22895, 121200, 88433, 88435, 121227, 55694, 121232, 121233, 55700, 22941, 22954, 121260, 88495, 121263, 121265, 22965, 55733, 55734, 121271, 121273, 55738, 55743, 22979, 55748, 55752, 121291, 88526, 121295, 121301, 121303, 88537, 121309, 23009, 121314, 55781, 23026, 121332, 23033, 121338, 121343, 55808, 121344, 88578, 88579, 55814, 55816, 55817, 23051, 55821, 55825, 121361, 23060, 88596, 88598, 88601, 55836, 121373, 88609, 88612, 88613, 55846, 88615, 88616, 121386, 23085, 23087, 55856, 88623, 23092, 121396, 88630, 88634, 121407, 121410, 121411, 121416, 23115, 88652, 23117, 55886, 121419, 88656, 121420, 88664, 23129, 55900, 88669, 121442, 121443, 121444, 23141, 23142, 23144, 55921, 23156, 23159, 88697, 23166, 55934, 23172, 121477, 88714, 23179, 23187, 88723, 55962, 88732, 55965, 23202, 88738, 55972, 23205, 121508, 23207, 23215, 121519, 88754, 23225, 121531, 56001, 88769, 56003, 88775, 88776, 121552, 121559, 88792, 56028, 121568, 121571, 56040, 88813, 23279, 23280, 56051, 121589, 56054, 23287, 121590, 88829, 23298, 88835, 23304, 121608, 121609, 23309, 23314, 23316, 121621, 121624, 121625, 23324, 23327, 56095, 88864, 88876, 23345, 23346, 121650, 88885, 121655, 23354, 88892, 121664, 56136, 121673, 23373, 56144, 121681, 88917, 121686, 23385, 23386, 88922, 23390, 88926, 121697, 23394, 23398, 56167, 88938, 56173, 121711, 56178, 121714, 121716, 88950, 56191, 23427, 56197, 23433, 23436, 121740, 121744, 23441, 88978, 23444, 88988, 56223, 23456, 56224, 88991, 23459, 88992, 88996, 121764, 88999, 121766, 23468, 89004, 89011, 23476, 23488, 121794, 23495, 121801, 121802, 56269, 56271, 56273, 121809, 89055, 89057, 56290, 89058, 89059, 23528, 121832, 56305, 56306, 89075, 23540, 89078, 89079, 23544, 121847, 121850, 89083, 56318, 121854, 121859, 121861, 23560, 121866, 56333, 56334, 89104, 56337, 121873, 89109, 89112, 56348, 89119, 121894, 121896, 56362, 89130, 89132, 56366, 56367, 89137, 56375, 56376, 56380, 23619, 23621, 56391, 89162, 121931, 56396, 56400, 23634, 56404, 121940, 23643, 56412, 89180, 121948, 23647, 121951, 121956, 56421, 89189, 121960, 23657, 23660, 56428, 23662, 89198, 121973, 121974, 56440, 121979, 89216, 121984, 89219, 23684, 89220, 56454, 121989, 121992, 56460, 23695, 122003, 23700, 89239, 122016, 122019, 122020, 56486, 122027, 89261, 23729, 122033, 23735, 56504, 56505, 56507, 56514, 122050, 23748, 56520, 89288, 89290, 56523, 56524, 122057, 89298, 122070, 23780, 23784, 122088, 56557, 122099, 89334, 122103, 23801, 89337, 122112, 23811, 89347, 23813, 89348, 56583, 122116, 23819, 56589, 23830, 23832, 122142, 56607, 89376, 89377, 56611, 89385, 122155, 23855, 89391, 89392, 23858, 89394, 122160, 23862, 89398, 89400, 122166, 122167, 122168, 23869, 56641, 23882, 56654, 89423, 23888, 122193, 23890, 89430, 56663, 56666, 23902, 122206, 23905, 23912, 89449, 23914, 23915, 23918, 56686, 89457, 56692, 122228, 89464, 56699, 56701, 56705, 89475, 122243, 23941, 122244, 23946, 89483, 122251, 56727, 89496, 122268, 56738, 56740, 23973, 23975, 23978, 56746, 89516, 89517, 56751, 23984, 56753, 89521, 56755, 56759, 56763, 89531, 122299, 56766, 56768, 122308, 24006, 56776, 122316, 89549, 122317, 122320, 56786, 56788, 122325, 89560, 89565, 89569, 122337, 89572, 24046, 56818, 89595, 56829, 122365, 24065, 89602, 89604, 56838, 24071, 89609, 24077, 24080, 24081, 24086, 24089, 89627, 56861, 24094, 89629, 24096, 89630, 24100, 56869, 89636, 24103, 122405, 122411, 56878, 122414, 24116, 89652, 89655, 122429, 24126, 56894, 24128, 89663, 89664, 24131, 89665, 122432, 122437, 56904, 56905, 122444, 89677, 56910, 56911, 89678, 24147, 24149, 24151, 56923, 24156, 89693, 24162, 24163, 122473, 122481, 56947, 122484, 89724, 24201, 89737, 56973, 56976, 89744, 24215, 56987, 89759, 89764, 89769, 89770, 24235, 122542, 24240, 57008, 24244, 24246, 57015, 57021, 122558, 89791, 57025, 24262, 89800, 89807, 122583, 122584, 122585, 89819, 57057, 89828, 24297, 24300, 89837, 24306, 89845, 57085, 57090, 89861, 122638, 24335, 57106, 89875, 89884, 122655, 57122, 89907, 57140, 122679, 57147, 122683, 122685, 89919, 24386, 122692, 57161, 122698, 89933, 122707, 89943, 57178, 24412, 122717, 89950, 24418, 24420, 24425, 24426, 122729, 57198, 24434, 24435, 24436, 89970, 24438, 24442, 57212, 24445, 122765, 122767, 122773, 57238, 57239, 90007, 24473, 90009, 122775, 90012, 122783, 24481, 57250, 90020, 57253, 57254, 90029, 122799, 24497, 57269, 90037, 24505, 24508, 24509, 57278, 90047, 57280, 122820, 122821, 24520, 90060, 122828, 57294, 122830, 24532, 57302, 24535, 122840, 57306, 90074, 90075, 90077, 24543, 24549, 57317, 90086, 122858, 24556, 122860, 90097, 24562, 57334, 90106, 90107, 90110, 24575, 90114, 57351, 24585, 122890, 90124, 57357, 122893, 122902, 57367, 90136, 90137, 24605, 24608, 57377, 122914, 24611, 24615, 24617, 57386, 57398, 57399, 90167, 24633, 122941, 24642, 90180, 90181, 24649, 90191, 57424, 24661, 24674, 24677, 24679, 24682, 90225, 57458, 122995, 24693, 24698, 90236, 123004, 24703, 24705, 90242, 123009, 24708, 57476, 90246, 24711, 57481, 90251, 24718, 57487, 24721, 57490, 90259, 123026, 90261, 57494, 90269, 57504, 90274, 90275, 90276, 123043, 123044, 123048, 57513, 123049, 90283, 24750, 57518, 90289, 123058, 24755, 123059, 24765, 57533, 24767, 123072, 24770, 57538, 123075, 90314, 57547, 90315, 123087, 24785, 123090, 90323, 57558, 24791, 24792, 90328, 57565, 57566, 123104, 57569, 24808, 57576, 123117, 24817, 24820, 90356, 123126, 90362, 57597, 24832, 90368, 57602, 90369, 90372, 123136, 90377, 57610, 57611, 90379, 123147, 123150, 57615, 90384, 57618, 24857, 90395, 24860, 57631, 24864, 57634, 123178, 90412, 90413, 123180, 123181, 90416, 24881, 123185, 123186, 24884, 57653, 90422, 24889, 57657, 90428, 123196, 90433, 90434, 24899, 57668, 24905, 57677, 90448, 24914, 57682, 123220, 90454, 90455, 57688, 90456, 123224, 123228, 24930, 57701, 90469, 57703, 90471, 90473, 123239, 24939, 57710, 123248, 90482, 90487, 123259, 57728, 24963, 57731, 123271, 24974, 24975, 90512, 123278, 123285, 123288, 57753, 24988, 57764, 123305, 25007, 57776, 90543, 57781, 123319, 25018, 57797, 123336, 90573, 57806, 123356, 25053, 90589, 123362, 90596, 57831, 57833, 25075, 25076, 57845, 123382, 90615, 57848, 123386, 57853, 57861, 90629, 123399, 90632, 57866, 90639, 90643, 25109, 90648, 123419, 123421, 123427, 25125, 25126, 25133, 90671, 123439, 57906, 25139, 57910, 123446, 57916, 25150, 123460, 123461, 90695, 123464, 57930, 123471, 25171, 90707, 123477, 25177, 123487, 57954, 90722, 57957, 57959, 25198, 123504, 57970, 90743, 90754, 57988, 57990, 25223, 57994, 25227, 123530, 90770, 25238, 90776, 58010, 90779, 58019, 58021, 25261, 123567, 58034, 123571, 90804, 25270, 123574, 123576, 123578, 90811, 25277, 90816, 90817, 123586, 123588, 25288, 58060, 90829, 90831, 123600, 123601, 123602, 90839, 58072, 90840, 123609, 58075, 25310, 123614, 58084, 25317, 90853, 90855, 123622, 25322, 123626, 90860, 123629, 58101, 123637, 58106, 123646, 123647, 58113, 58114, 90888, 90890, 58125, 58126, 123661, 90897, 90898, 123665, 123669, 25368, 58136, 90905, 58144, 25378, 123685, 58150, 58151, 123686, 58156, 25390, 58159, 90928, 123697, 58164, 123701, 90934, 25399, 90935, 123703, 58175, 90944, 90945, 90948, 25415, 90952, 58186, 90954, 58189, 90961, 123729, 123734, 25432, 58202, 123739, 25436, 58207, 58208, 25445, 25448, 123754, 90989, 25455, 123759, 25458, 58227, 58234, 123770, 25478, 91015, 25484, 91027, 58263, 25496, 25498, 25502, 91038, 58274, 123813, 25512, 123819, 91057, 123829, 25529, 58297, 58298, 123835, 58305, 91076, 25541, 25544, 25551, 58319, 91092, 25557, 91093, 123860, 91096, 123865, 25562, 58331, 123868, 58336, 58343, 123879, 123881, 91116, 123887, 58353, 58362, 25596, 25600, 25605, 91141, 58375, 91143, 25610, 25613, 58383, 58386, 58390, 25624, 91160, 123930, 25632, 58412, 91181, 91197, 58431, 91203, 58436, 91206, 91208, 25675, 25677, 123983, 91219, 25688, 25689, 58457, 25694, 25697, 25698, 91233, 91237, 25703, 91240, 124007, 91242, 91244, 91246, 58481, 91250, 124018, 25723, 25729, 91265, 91267, 25744, 58512, 25751, 25752, 25753, 124058, 25758, 91295, 25761, 25763, 58531, 58532, 25767, 25769, 124075, 124080, 124083, 124084, 25781, 58549, 58551, 91317, 58554, 25793, 91332, 25799, 124105, 58570, 91339, 91340, 124106, 91342, 25807, 91347, 25813, 91352, 58586, 58591, 124127, 58595, 25831, 91373, 58606, 124141, 124143, 124148, 91383, 58622, 25855, 91391, 25867, 124171, 124172, 25874, 58650, 25889, 58657, 91431, 91432, 124204, 58669, 91437, 58672, 124210, 91443, 25911, 91453, 25929, 124247, 124249, 91484, 124256, 91489, 58723, 25956, 91491, 25965, 25969, 58737, 25974, 91510, 58748, 124284, 58753, 124291, 91524, 91527, 58760, 124295, 124297, 124304, 91538, 124308, 26008, 58777, 26011, 58779, 124319, 26018, 91557, 91559, 58793, 91561, 91563, 26029, 124334, 26032, 26034, 26035, 58806, 124344, 26045, 91582, 26047, 58816, 91583, 124351, 124354, 124355, 124360, 124361, 124362, 58832, 26065, 124369, 124372, 58837, 91606, 58839, 91609, 124377, 26076, 124387, 58858, 124394, 91631, 58869, 91641, 124413, 124418, 26117, 58886, 124424, 91665, 91666, 91668, 58902, 124439, 26137, 124444, 26142, 26143, 91680, 26149, 26150, 91691, 26156, 58929, 91701, 91704, 26169, 91709, 91711, 124480, 26177, 91717, 26188, 58957, 58958, 124495, 91728, 91732, 91734, 58969, 124506, 26204, 124511, 58976, 26214, 26218, 91756, 91758, 91760, 124528, 91762, 124534, 124537, 26234, 124538, 91772, 59005, 26246, 124552, 91789, 124567, 59033, 59035, 59036, 26272, 59042, 124581, 59047, 91820, 124589, 124590, 124591, 91825, 124593, 91828, 59064, 26301, 59069, 26305, 91844, 124612, 124614, 26313, 124617, 26315, 26316, 91852, 91854, 91856, 124627, 124628, 124629, 124631, 26334, 59103, 91874, 59109, 26342, 26344, 26345, 26346, 124651, 59120, 124659, 59128, 26362, 124671, 91905, 91914, 59147, 124683, 124686, 26384, 124689, 26386, 26389, 91928, 91932, 91935, 59168, 26401, 59172, 124712, 124715, 26415, 59183, 124722, 26419, 91955, 59191, 124727, 124728, 91963, 91964, 124732, 26432, 26434, 26436, 91976, 26442, 26443, 59213, 26447, 59215, 59218, 59221, 59223, 59224, 26465, 92004, 124774, 26471, 124776, 59241, 92010, 26475, 26476, 59243, 92011, 92020, 26485, 26486, 26489, 26491, 92028, 124800, 124802, 59269, 26507, 59276, 26510, 92046, 92051, 59284, 59288, 92068, 59302, 124839, 59304, 124840, 26541, 26542, 26543, 59311, 92079, 59314, 59315, 124851, 124853, 59319, 92096, 124865, 26567, 26568, 92108, 92113, 59348, 92116, 26582, 59350, 92117, 124884, 124894, 124896, 124897, 26594, 59362, 59365, 26598, 92137, 59382, 124921, 124922, 26619, 124923, 59389, 124934, 26632, 59403, 26637, 124943, 26640, 59410, 124948, 59417, 26655, 26658, 59427, 59428, 92196, 59435, 26668, 59436, 26676, 59445, 59446, 124982, 92219, 26684, 124992, 59458, 26699, 26700, 92237, 26703, 26704, 59471, 125010, 59475, 125012, 125014, 26717, 92255, 59491, 59492, 92259, 26731, 92268, 125038, 92271, 59505, 59509, 92280, 92287, 26754, 26755, 125058, 92294, 26762, 26764, 26765, 125071, 92307, 92311, 125080, 59545, 26785, 59562, 59564, 92334, 92337, 26805, 125111, 92345, 92346, 125116, 125118, 125119, 125120, 59589, 92359, 26824, 125136, 59601, 125146, 92380, 92384, 125156, 92394, 59627, 59636, 125175, 26872, 59640, 92419, 92427, 125196, 26894, 26897, 26898, 125205, 26904, 92440, 26907, 125211, 59677, 26910, 26911, 59678, 92445, 125212, 59685, 125222, 59687, 92455, 125225, 26924, 92462, 59698, 92468, 59702, 92471, 92472, 26938, 92476, 92477, 92478, 125244, 59712, 26947, 92485, 59719, 125256, 26958, 92496, 125265, 59730, 125266, 26965, 92503, 125271, 26969, 26970, 92505, 125273, 125276, 125279, 59746, 59747, 26984, 26991, 26994, 92530, 26996, 125298, 92534, 125304, 92539, 92543, 59777, 92547, 27014, 59782, 59787, 59788, 125324, 92559, 125328, 27027, 125333, 27031, 125336, 125338, 125342, 27039, 27041, 27043, 125347, 125349, 59817, 59818, 59819, 92587, 125358, 92596, 59831, 92610, 59847, 59848, 27085, 92622, 125393, 125394, 27091, 92630, 27100, 125404, 92643, 27108, 59876, 125413, 125418, 92653, 59892, 27127, 125433, 59898, 125435, 92680, 59913, 27146, 59914, 125451, 59921, 125458, 92691, 59925, 125463, 27163, 92704, 92705, 27170, 92706, 125473, 59942, 125480, 92718, 27184, 27185, 59953, 59955, 125490, 125492, 27190, 27193, 27194, 59962, 59964, 92729, 27198, 27199, 92731, 59969, 125502, 125510, 125512, 27214, 59988, 27221, 27226, 125530, 92765, 92766, 27235, 60003, 27237, 92775, 27241, 27249, 92785, 125554, 27252, 125555, 125556, 92795, 92796, 60030, 92798, 27266, 60036, 125572, 27270, 125578, 92811, 60050, 92819, 60056, 27290, 27291, 60058, 60060, 125599, 60073, 60074, 27309, 60082, 60089, 92857, 92859, 125626, 125628, 60096, 27329, 60097, 125634, 27333, 125639, 60105, 92875, 27341, 92882, 60118, 125658, 60124, 92893, 125662, 60129, 92899, 27365, 27368, 125673, 27377, 92915, 27380, 125684, 125686, 60155, 60156, 27392, 60163, 27396, 92933, 92934, 125701, 60170, 92939, 27405, 92941, 125709, 125719, 92954, 60187, 125724, 125726, 125731, 60200, 125741, 60207, 60210, 27443, 125750, 125753, 27450, 125757, 92995, 60233, 60241, 125779, 60248, 27484, 60253, 125789, 60256, 93025, 93026, 60262, 93030, 60270, 125821, 125827, 27526, 27527, 27530, 93066, 93075, 27540, 125847, 27544, 60312, 93080, 125853, 27552, 60324, 60327, 60328, 27561, 60330, 27563, 93098, 125863, 27567, 60336, 125872, 60338, 27573, 60343, 93116, 93117, 60350, 125887, 125889, 125890, 27589, 125896, 125898, 60367, 27600, 60368, 125905, 125906, 125908, 60378, 125915, 125919, 27616, 27618, 125923, 125925, 93160, 27627, 93166, 27636, 93176, 125944, 60411, 93179, 27647, 27648, 60415, 27654, 93190, 125959, 93197, 27667, 60435, 60437, 93208, 60442, 93212, 60445, 93214, 125981, 125994, 27691, 27692, 27693, 93240, 126013, 27710, 27711, 60485, 93254, 93262, 126030, 27731, 93267, 60501, 93268, 93269, 126035, 60508, 126045, 27743, 60511, 93283, 60521, 27754, 60524, 27758, 27762, 27772, 93311, 93312, 93316, 126084, 27782, 126086, 93320, 126091, 60556, 60560, 60565, 27799, 60569, 27805, 27806, 93343, 27814, 27817, 27818, 27819, 93354, 27821, 60591, 126128, 126132, 93366, 27831, 93369, 93372, 60605, 27841, 93377, 126145, 126148, 126152, 60620, 27853, 126160, 27858, 60626, 126163, 126168, 27865, 60634, 27872, 93412, 93418, 126186, 126187, 93426, 60662, 93430, 27896, 93433, 27900, 93437, 126210, 93443, 93445, 27912, 93449, 126222, 60689, 126226, 27928, 60696, 60705, 60706, 126242, 27943, 126249, 60714, 27948, 126254, 126255, 93490, 126261, 93497, 27962, 27964, 60732, 93503, 27969, 60740, 60744, 93513, 27978, 27979, 93525, 27992, 60760, 126298, 126299, 93533, 28005, 60774, 126311, 60780, 28013, 126318, 93555, 126326, 28026, 60794, 126331, 28031, 126336, 60804, 28038, 28039, 126345, 126347, 126349, 28048, 93584, 28050, 93585, 126353, 28054, 126361, 126362, 60828, 28061, 93597, 28064, 28065, 93600, 126375, 60841, 126380, 93614, 28084, 93624, 60857, 93626, 93628, 60861, 93630, 28098, 126402, 28101, 126406, 28105, 126417, 126419, 60884, 28126, 126434, 126438, 28136, 28143, 60912, 28146, 93684, 93687, 126456, 126470, 93703, 93706, 60941, 28180, 28181, 126484, 126485, 28185, 60963, 126501, 93745, 126514, 93758, 126528, 126535, 28234, 61006, 93774, 61008, 93780, 28246, 126558, 61027, 61031, 28264, 93800, 126573, 28271, 93807, 126579, 126583, 28282, 61051, 126588, 126589, 126591, 93825, 93827, 28292, 28298, 126602, 28301, 61069, 93839, 28304, 93842, 28313, 93849, 126622, 28319, 61088, 126624, 61090, 126627, 93860, 93864, 126637, 126638, 126647, 28345, 61114, 93882, 61120, 93891, 93893, 126668, 93903, 93904, 126671, 93910, 61143, 126680, 61145, 61146, 93915, 28380, 61149, 126685, 61151, 126690, 61155, 28388, 28394, 28397, 93934, 93936, 61173, 126709, 126710, 126714, 28411, 61181, 28414, 93949, 61188, 28421, 93961, 126729, 93968, 28434, 93975, 28440, 61211, 126751, 28449, 28453, 28455, 93992, 93995, 126764, 28462, 126766, 61232, 28465, 28466, 61236, 61237, 61239, 61243, 28478, 94019, 94023, 28490, 126796, 28495, 61263, 94033, 126802, 94035, 61272, 94044, 28509, 61278, 126812, 94049, 94053, 126824, 61289, 61290, 28523, 28524, 94058, 61295, 28529, 126839, 126846, 28557, 94094, 61327, 61330, 94108, 61341, 126877, 61343, 28579, 126884, 28581, 61352, 94133, 61366, 126904, 61374, 126910, 94144, 126915, 28612, 61381, 94149, 126916, 61387, 94155, 94159, 126928, 126931, 126938, 61404, 61410, 94180, 28647, 28648, 126952, 94189, 61424, 126961, 28658, 94195, 126969, 94205, 28670, 28674, 94214, 61450, 61451, 28685, 28689, 126993, 61459, 28692, 94229, 94230, 126997, 126999, 94235, 127012, 61479, 28714, 28715, 127018, 28717, 28718, 61487, 127031, 28732, 61501, 61502, 61505, 94273, 61507, 28740, 28745, 28746, 28748, 127052, 28750, 94286, 61520, 61523, 94293, 28758, 61527, 94298, 61532, 127076, 127079, 28784, 127088, 28786, 61556, 127094, 28796, 127102, 28801, 94338, 94343, 61576, 94346, 94349, 28820, 127126, 61591, 94362, 61596, 28830, 28833, 28837, 61605, 28840, 61611, 61612, 127148, 94385, 28853, 61629, 28864, 28869, 28871, 61644, 28877, 61650, 61652, 28885, 127188, 61657, 94433, 127204, 94437, 61680, 94448, 127218, 127220, 28919, 127224, 61691, 61693, 61696, 61701, 127237, 94471, 61705, 28938, 28939, 61709, 127253, 94487, 61723, 28956, 94494, 28959, 94499, 61734, 28972, 127276, 61744, 61748, 94519, 94522, 61757, 127295, 61765, 94533, 94536, 94538, 29007, 29016, 61786, 127324, 29021, 94562, 61795, 94564, 61798, 94567, 127338, 94572, 127341, 61809, 94577, 94578, 94581, 29047, 94584, 127352, 61818, 29051, 29053, 94592, 127366, 29063, 61833, 94602, 127369, 61837, 127375, 127378, 29076, 29079, 94616, 94617, 29084, 29086, 94622, 61857, 127393, 94627, 61860, 127403, 29101, 29102, 61877, 61883, 127422, 61887, 61889, 127425, 127430, 94664, 29131, 94670, 29135, 61904, 127440, 127443, 61908, 61909, 94678, 94683, 94686, 29151, 29153, 61924, 127460, 127461, 94695, 29160, 61929, 127467, 94704, 29170, 127476, 61942, 127480, 61947, 94715, 29182, 94718, 29184, 127486, 29186, 94723, 94724, 127491, 127492, 127497, 94731, 61966, 61974, 94743, 127512, 29209, 61979, 127516, 127518, 61983, 29216, 61987, 94757, 127525, 29227, 61998, 29232, 62000, 94769, 62003, 127536, 127538, 62006, 127539, 127541, 29241, 29242, 127542, 94780, 127545, 127552, 127556, 127561, 127563, 127565, 94799, 127567, 94803, 29268, 127571, 127573, 29272, 127576, 62042, 29275, 62043, 94814, 29284, 62054, 29290, 29291, 62058, 62062, 62072, 94848, 62083, 29318, 62088, 94858, 94859, 127628, 127629, 94866, 127636, 94869, 127639, 29338, 127643, 62110, 29346, 29351, 127656, 94889, 94893, 127661, 62127, 127665, 62133, 94906, 29375, 127681, 94915, 29381, 29382, 127687, 62153, 62154, 94925, 94932, 62167, 94936, 94939, 94940, 62179, 94956, 94960, 29427, 62195, 127734, 62199, 94967, 62201, 94974, 62210, 127748, 94981, 29446, 127754, 94987, 127757, 29454, 62222, 29457, 62226, 94997, 62231, 95000, 62233, 29466, 62237, 62240, 29478, 127782, 95016, 127788, 29486, 29490, 95027, 127795, 29493, 62261, 95031, 62266, 29505, 29507, 29509, 95046, 127813, 29516, 29520, 95057, 62290, 127824, 62295, 62296, 127832, 29533, 62303, 95074, 127843, 29540, 29546, 29547, 127852, 29553, 62321, 95090, 29556, 127863, 29560, 29565, 29566, 62333, 95104, 95105, 95106, 29571, 29573, 29574, 95120, 127896, 95129, 95136, 95142, 127916, 62385, 127922, 95156, 127929, 62394, 95164, 62398, 95168, 127937, 127938, 29636, 62404, 29638, 62407, 95176, 29641, 62412, 29648, 62422, 29656, 95194, 95199, 127968, 95202, 29669, 62438, 62440, 29674, 62447, 29683, 62454, 29687, 127992, 29689, 127993, 29694, 62463, 29698, 128003, 29701, 62469, 95240, 29707, 62477, 62478, 29711, 62481, 128020, 29727, 62495, 128031, 95266, 128032, 95273, 95274, 128041, 95279, 29745, 128053, 29751, 95292, 62525, 29761, 128066, 95301, 95306, 95307, 62540, 29773, 95308, 62544, 95319, 62553, 29789, 62558, 29792, 62560, 29794, 29795, 62566, 29800, 95336, 128105, 62573, 29806, 128109, 62576, 128114, 29811, 29815, 128124, 62589, 29822, 62595, 29829, 29830, 128134, 62600, 62601, 95370, 128140, 62608, 128149, 128150, 62616, 95386, 62620, 62626, 29859, 62628, 62630, 62634, 128172, 29878, 95415, 95416, 29881, 128186, 128187, 62656, 128195, 62662, 29895, 62667, 95436, 29902, 95439, 95442, 128211, 29913, 29914, 128219, 128226, 62691, 128232, 29933, 29935, 62706, 62708, 128245, 95486, 29951, 29952, 95489, 95490, 128254, 29956, 128256, 62726, 128270, 128276, 29973, 95509, 128278, 95516, 29984, 128289, 128293, 29990, 29993, 62765, 95533, 95534, 128301, 128302, 62771, 128310, 95544, 95545, 30011, 62781, 95551, 62784, 95555, 128325, 30022, 128328, 62793, 128331, 30031, 62800, 30036, 62804, 95573, 30039, 62807, 30041, 30042, 62811, 62812, 95576, 30046, 95581, 128353, 30052, 95591, 62826, 95596, 62830, 128368, 30075, 30077, 30079, 30080, 128383, 128389, 62856, 128396, 30093, 95631, 128400, 95637, 95639, 95640, 95646, 62881, 62884, 95654, 95655, 62889, 30122, 62892, 95660, 30127, 95664, 128432, 30131, 95670, 95671, 95676, 95678, 62913, 62916, 128452, 62923, 95695, 95698, 62933, 62934, 95703, 62936, 128473, 62938, 95707, 128479, 62951, 30184, 30185, 30188, 128493, 95727, 30192, 30193, 128496, 62966, 95736, 62971, 95746, 30211, 62979, 95748, 62983, 128525, 30223, 95760, 30225, 30229, 95766, 30231, 128534, 63006, 63009, 30244, 95782, 128553, 128557, 128559, 95795, 128564, 95798, 30264, 30265, 95800, 30270, 30271, 30272, 63040, 30274, 63041, 95810, 128575, 128583, 95818, 30286, 95822, 95830, 63066, 95837, 30308, 95845, 95848, 128618, 63084, 95852, 95853, 128621, 30321, 63089, 63090, 128625, 63093, 95864, 128633, 30337, 63110, 95878, 128647, 63114, 128654, 63125, 30359, 95902, 30374, 63142, 30378, 63150, 128693, 30390, 128696, 95931, 128704, 30403, 30407, 63177, 30412, 128720, 128724, 30425, 95963, 95967, 30432, 63200, 128735, 30435, 63203, 95972, 30438, 128741, 128742, 30441, 128746, 63212, 63214, 95983, 95988, 63221, 95991, 95993, 95994, 30464, 63235, 96009, 128778, 30479, 30481, 30483, 30485, 128790, 63255, 63256, 30495, 63265, 30501, 30502, 63270, 63271, 30507, 128811, 63278, 96046, 30512, 96048, 63282, 96051, 128815, 128821, 63286, 30529, 128835, 63301, 128839, 30543, 128848, 30546, 96083, 96084, 128851, 128854, 30552, 63320, 30554, 63324, 30557, 30560, 96099, 96101, 30566, 96103, 63341, 96111, 63345, 30581, 30595, 30598, 30600, 128908, 30606, 30610, 96148, 30613, 30617, 96156, 128925, 63390, 63398, 63400, 30633, 128937, 63403, 63404, 96172, 63408, 128945, 128947, 96183, 30649, 30651, 63420, 128958, 30658, 63429, 30662, 96197, 96201, 96205, 63440, 96208, 96214, 128982, 63448, 96218, 63451, 30685, 96222, 96224, 63457, 63461, 96232, 96233, 30699, 96236, 63469, 96238, 63471, 96239, 129004, 129006, 30707, 96244, 129011, 129014, 96250, 63483, 63484, 129021, 63488, 96256, 30724, 96262, 63495, 63496, 96263, 30730, 129035, 30732, 96269, 96271, 129041, 96275, 63508, 30741, 96279, 96287, 96289, 96290, 30756, 30758, 96294, 96295, 30761, 96296, 96300, 30767, 30768, 129075, 63541, 129077, 129082, 63551, 129089, 96325, 30790, 63560, 63563, 129100, 30797, 96335, 129103, 63577, 63578, 30818, 30821, 30822, 96359, 129125, 129126, 129130, 96363, 30828, 129132, 129136, 63601, 30835, 129140, 63608, 63609, 30843, 96381, 30846, 96388, 96389, 30855, 96393, 63628, 63629, 96401, 96402, 30867, 129170, 63637, 96409, 63644, 30877, 63651, 30885, 96421, 63655, 30888, 96430, 30896, 63665, 30898, 96432, 129201, 96437, 129202, 129208, 129210, 30909, 96445, 96447, 129213, 63682, 30917, 63685, 30919, 129223, 129230, 30929, 96465, 96469, 63702, 129240, 63705, 30938, 96473, 129246, 63711, 129248, 63716, 96486, 30951, 30959, 129263, 129265, 30962, 30963, 63732, 96500, 63736, 129276, 30973, 96511, 30984, 96520, 96523, 63757, 96527, 30992, 129296, 63764, 63768, 31002, 129313, 31011, 129315, 96552, 63785, 96553, 31019, 31021, 63791, 63792, 63793, 129328, 129329, 31034, 31041, 31043, 96580, 129347, 63814, 31049, 63818, 96587, 129353, 96595, 63830, 96600, 129373, 31070, 96611, 63846, 129382, 129383, 96622, 129392, 129394, 31096, 31100, 129404, 96640, 129411, 31111, 129419, 63884, 31121, 96657, 129426, 96665, 129446, 129447, 129450, 31149, 63917, 31152, 31156, 63925, 31161, 96700, 31168, 31174, 96712, 63945, 96715, 31185, 63955, 129491, 96726, 129494, 31196, 96733, 129505, 31204, 63974, 96742, 31212, 63986, 96754, 63988, 96757, 96758, 31223, 129525, 31228, 96765, 31231, 64001, 96772, 64006, 96780, 96781, 129550, 129554, 129555, 64022, 96793, 129571, 64039, 64041, 96810, 31290, 31295, 129600, 96833, 31301, 64072, 96840, 96841, 64075, 96842, 31310, 31311, 64085, 31322, 31323, 96860, 129628, 64096, 31332, 31333, 129643, 96878, 96879, 129647, 129651, 64127, 31360, 31361, 64130, 96905, 129676, 31377, 129689, 96922, 129690, 64159, 31393, 64161, 96931, 31399, 129709, 64174, 96942, 31408, 96946, 64180, 31415, 64189, 96960, 129730, 96971, 64204, 31437, 31438, 96975, 64208, 129748, 129751, 31449, 96988, 31453, 96990, 31455, 31462, 96999, 129775, 64240, 97014, 129785, 31498, 31499, 129803, 31503, 64271, 64274, 97047, 64288, 129832, 97065, 31531, 31536, 97073, 129840, 129843, 97079, 64316, 64322, 64323, 97090, 97094, 31559, 64331, 97100, 31568, 129877, 129879, 129881, 97114, 129884, 31584, 31586, 129891, 64357, 97132, 64367, 129903, 64369, 64371, 129907, 129909, 64377, 97147, 31616, 64388, 31622, 31623, 97160, 97161, 31626, 64397, 64399, 97167, 129936, 97170, 64404, 31640, 97176, 97179, 31646, 31647, 64415, 31651, 64420, 129958, 31657, 64428, 129966, 129969, 64445, 64452, 129989, 129993, 129998, 97231, 130015, 31712, 130024, 64489, 64492, 97264, 130039, 97277, 31743, 64512, 130053, 130054, 31754, 64526, 130073, 130077, 31781, 64551, 97330, 97333, 130103, 130110, 97345, 64580, 97350, 64584, 64591, 31826, 64594, 97362, 64601, 64603, 130139, 31838, 64619, 130162, 97399, 130168, 97402, 97403, 97406, 130176, 130177, 130178, 97412, 97413, 130190, 31892, 130197, 97434, 130204, 64670, 31904, 97440, 31906, 97446, 97447, 130216, 31915, 97451, 130221, 130222, 130225, 31922, 97458, 64694, 31927, 64698, 130242, 97476, 130248, 130251, 97485, 97486, 31951, 31952, 64719, 130257, 130258, 130260, 64725, 130268, 31966, 97505, 130274, 97511, 64746, 31985, 97525, 31992, 97528, 130296, 130300, 64767, 64770, 97539, 64777, 97547, 97550, 97554, 97558, 130332, 32034, 64803, 32041, 32042, 97578, 32054, 32055, 64823, 32061, 97599, 130370, 32067, 64836, 97606, 64844, 32077, 32078, 130380, 130381, 130396, 64862, 64863, 97631, 97634, 32105, 64875, 64876, 130412, 97646, 32114, 130421, 64886, 32122, 32124, 64898, 32132, 64902, 97672, 130442, 130446, 130447, 32149, 130457, 130461, 130462, 32164, 64932, 97702, 130469, 32168, 32170, 97706, 64949, 32182, 32183, 97718, 64953, 130487, 32187, 64957, 64958, 97728, 97729, 97730, 97731, 32197, 130502, 64967, 32200, 64975, 64976, 130513, 97746, 130515, 32216, 32217, 97753, 64988, 97756, 64990, 32224, 64993, 32226, 64996, 64997, 130537, 97770, 130541, 130545, 130546, 97779, 130547, 130560, 65025, 32267, 130573, 130575, 65040, 97808, 130583, 130585, 65051, 65056, 97826, 130595, 32293, 65065, 97834, 130603, 130605, 65071, 32304, 65073, 65076, 97844, 65080, 97849, 65082, 97850, 97851, 32318, 97855, 32325, 32328, 130638, 97872, 65113, 130649, 130653, 32353, 97890, 65127, 130666, 97899, 32374, 65146, 130682, 130684, 65149, 65150, 130685, 32384, 97921, 130687, 130695, 97928, 32394, 65163, 130701, 97940, 130709, 97946, 65180, 32417, 65186, 97957, 65193, 97961, 32430, 97982, 130751, 32449, 65218, 32455, 97991, 130763, 97997, 97998, 98000, 32465, 130771, 65237, 32472, 130778, 32475, 98013, 65247, 98016, 65251, 130787, 32485, 32486, 130791, 65256, 130798, 98034, 130810, 98043, 98046, 98048, 65285, 32518, 130823, 130827, 130828, 32529, 65297, 65308, 32541, 65310, 32543, 32544, 65314, 98082, 65321, 98091, 98093, 65327, 130866, 32564, 65333, 65334, 130871, 65338, 65339, 130876, 65341, 32574, 130882, 65348, 98117, 130888, 98123, 32588, 32592, 130896, 98130, 98135, 32600, 130903, 65379, 32613, 65381, 65382, 98153, 65386, 98161, 32627, 32630, 32632, 65404, 98172, 98175, 32641, 98179, 65413, 98181, 98182, 98183, 130949, 65418, 65419, 32655, 65427, 32661, 65432, 65433, 130968, 130969, 130970, 98205, 65441, 32674, 130978, 65445, 130982, 98215, 65449, 32682, 98217, 130986, 98221, 32686, 98223, 32691, 65463, 32697, 32698, 131007, 98244, 131015, 65480, 32720, 98256, 32725, 131031, 131033, 98269, 131038, 131039, 32736, 32737, 98274, 98278, 98280, 32746, 131054, 131055, 65523, 65524, 65529, 131066]\n",
            "adc.json  data.pkl  eng-test\t  model.zip    training_checkpoints\n",
            "data\t  data.zip  eng-test.txt  sample_data\n",
            "Saved 'data.pkl' to Drive\n"
          ],
          "name": "stdout"
        }
      ]
    },
    {
      "metadata": {
        "id": "IslCkcKo1ok-",
        "colab_type": "text"
      },
      "cell_type": "markdown",
      "source": [
        "## Training "
      ]
    },
    {
      "metadata": {
        "id": "7IehMkKk14C_",
        "colab_type": "text"
      },
      "cell_type": "markdown",
      "source": [
        "### Define Encoder and Decoder Model"
      ]
    },
    {
      "metadata": {
        "id": "ig6Wqet__S7D",
        "colab_type": "code",
        "colab": {}
      },
      "cell_type": "code",
      "source": [
        "class EncoderModel(tf.keras.Model):\n",
        "  def __init__(self,batch_size,embedding_dim,vocab_size,encoder_units):\n",
        "    super(EncoderModel, self).__init__()\n",
        "    \n",
        "    self.batch_size = batch_size\n",
        "    self.vocab_size = vocab_size\n",
        "    self.embedding_dim = embedding_dim\n",
        "    self.encoder_units = encoder_units\n",
        "    \n",
        "    self.Embedding = Embedding(self.vocab_size,self.embedding_dim,input_length=40) \n",
        "    self.GRU = CuDNNGRU(encoder_units,return_sequences = True,return_state= True) \n",
        "\n",
        "  def call(self, inp):\n",
        "    \n",
        "    embedded_vector = self.Embedding(inp)\n",
        "    output,hidden_state = self.GRU(embedded_vector)\n",
        "    return output,hidden_state\n",
        "\n",
        "  def initialize_hidden_state(self):\n",
        "        return tf.zeros((self.batch_size, self.encoder_units))\n",
        "    \n",
        "### ----------------- Decoder Model ---------------------------------------------#####\n",
        "\n",
        "\n",
        "class DecoderModel(tf.keras.Model):\n",
        "  \n",
        "  def __init__(self,batch_size,embedding_dim,vocab_size,decoder_units):\n",
        "    super(DecoderModel, self).__init__()\n",
        "    \n",
        "    self.batch_size = batch_size\n",
        "    self.vocab_size = vocab_size\n",
        "    self.embedding_dim = embedding_dim\n",
        "    self.decoder_units = decoder_units\n",
        "    \n",
        "    \n",
        "    self.W1 = Dense(self.decoder_units)\n",
        "    self.W2 = Dense(self.decoder_units)\n",
        "    self.V  = Dense(1)\n",
        "    self.A = Dense(self.decoder_units,activation='tanh')\n",
        "\n",
        "    \n",
        "    self.Embedding = Embedding(self.vocab_size,self.embedding_dim) \n",
        "    self.GRU = CuDNNGRU(self.decoder_units,return_sequences = True,return_state= True) \n",
        "    self.FC = Dense(self.vocab_size)\n",
        "    \n",
        "  def call(self,decoder_input,hidden,enc_hidden_output):\n",
        "    \n",
        "    decoder_hidden = tf.expand_dims(hidden,axis=1)                                  #output_shape = (batch_size,1,hidden_size)\n",
        "    score = self.V(tf.nn.tanh(self.W1(decoder_hidden)+self.W2(enc_hidden_output)))  #output_shape = (batch_size,sequence_length,1)\n",
        "    \n",
        "    attention_weights = tf.nn.softmax(score,axis=1)    #output_shape = (batch_size,sequence_length,1)\n",
        "    \n",
        "    context = attention_weights * enc_hidden_output\n",
        "    context = tf.reduce_sum(context,axis=1)            #output_shape = (batch_size,hidden_size)\n",
        "    context = tf.expand_dims(context,axis=1)\n",
        "    \n",
        "    decoder_embedded_vector = self.Embedding(decoder_input) \n",
        "    \n",
        "    attention_vector = self.A(tf.concat([context,decoder_embedded_vector],axis=-1))\n",
        "    \n",
        "    out,state = self.GRU(attention_vector)\n",
        "    \n",
        "    out = tf.squeeze(out,axis=1)\n",
        "    \n",
        "    output = self.FC(out)\n",
        "    \n",
        "    return output, state, attention_weights\n",
        "    \n",
        "     \n"
      ],
      "execution_count": 0,
      "outputs": []
    },
    {
      "metadata": {
        "id": "MYOBU2iYAW06",
        "colab_type": "text"
      },
      "cell_type": "markdown",
      "source": [
        "### Download Processed data for training "
      ]
    },
    {
      "metadata": {
        "colab_type": "code",
        "id": "x8xLIHU112_O",
        "outputId": "3e49119b-a132-4966-a61f-bc8836746aa1",
        "colab": {
          "base_uri": "https://localhost:8080/",
          "height": 34
        }
      },
      "cell_type": "code",
      "source": [
        "Drive().fileaction(['data.pkl'],'down')\n",
        "\n",
        "with open(\"data.pkl\", 'rb') as f:  \n",
        "        data = pickle.load( f)\n",
        "    \n",
        "    \n",
        "train_index = 500000\n",
        "val_index = 20000\n",
        "batch_size = 128\n",
        "\n",
        "train_dataset = tf.data.Dataset.from_tensor_slices((data['eng_data_train'],data['french_data_train']))\n",
        "train_dataset = train_dataset.batch(batch_size)\n",
        "\n",
        "val_dataset = tf.data.Dataset.from_tensor_slices((data['eng_data_val'],data['french_data_val']))\n",
        "val_dataset = val_dataset.batch(batch_size)\n",
        "\n"
      ],
      "execution_count": 0,
      "outputs": [
        {
          "output_type": "stream",
          "text": [
            "Downloaded 'data.pkl' from Drive\n"
          ],
          "name": "stdout"
        }
      ]
    },
    {
      "metadata": {
        "id": "1l4DMlnfAy5u",
        "colab_type": "text"
      },
      "cell_type": "markdown",
      "source": [
        "### Define Parameters and Instantiate Models\n"
      ]
    },
    {
      "metadata": {
        "id": "xj2HI8HTMKX3",
        "colab_type": "code",
        "colab": {}
      },
      "cell_type": "code",
      "source": [
        "sequence_length    = 40\n",
        "embedding_dim      = 128 \n",
        "batch_size         = batch_size\n",
        "eng_vocab_size = 15000\n",
        "french_vocab_size = 15000\n",
        "epochs = 5\n",
        "encoder_units = 256\n",
        "decoder_units = 256 \n",
        "N_BATCH = data['eng_data_train'].shape[0] // batch_size\n",
        "N_VAl = data['eng_data_val'].shape[0] // batch_size\n",
        "\n",
        "learning_rate = tf.Variable(0.0008)\n",
        "optimizer = tf.train.AdamOptimizer(learning_rate= learning_rate)\n",
        "\n",
        "encoder = EncoderModel(batch_size,embedding_dim,eng_vocab_size,encoder_units)\n",
        "decoder = DecoderModel(batch_size,embedding_dim,french_vocab_size,decoder_units)\n",
        "\n",
        "\n",
        "def compute_loss(real, pred):\n",
        "  mask = 1 - np.equal(real, 0)\n",
        "  loss = tf.nn.sparse_softmax_cross_entropy_with_logits(labels=real, logits=pred) * mask\n",
        "  return tf.reduce_mean(loss)\n",
        "\n",
        "checkpoint_dir = './training_checkpoints'\n",
        "checkpoint_prefix = os.path.join(checkpoint_dir, \"ckpt\")\n",
        "checkpoint = tf.train.Checkpoint(optimizer=optimizer,\n",
        "                                 encoder=encoder,decoder=decoder)\n",
        "\n",
        "\n",
        "    \n"
      ],
      "execution_count": 0,
      "outputs": []
    },
    {
      "metadata": {
        "id": "zIZYbUo935b8",
        "colab_type": "code",
        "outputId": "99977c63-6499-4ec8-e56f-2346e61a5ea1",
        "colab": {
          "base_uri": "https://localhost:8080/",
          "height": 52
        }
      },
      "cell_type": "code",
      "source": [
        "## Download the saved model\n",
        "!rm -r training_checkpoints\n",
        "\n",
        "Drive().fileaction(['model.zip'],'down')\n",
        "!unzip -q model.zip\n",
        "#!unzip -q model.zip"
      ],
      "execution_count": 0,
      "outputs": [
        {
          "output_type": "stream",
          "text": [
            "rm: cannot remove 'training_checkpoints': No such file or directory\n",
            "Downloaded 'model.zip' from Drive\n"
          ],
          "name": "stdout"
        }
      ]
    },
    {
      "metadata": {
        "id": "TofWYeWeaXl8",
        "colab_type": "text"
      },
      "cell_type": "markdown",
      "source": [
        "### Define Cyclic LR \n",
        "\n",
        "For efficient tuning of learning rate,  we are using  [Cyclical Learning Rate Policy](https://arxiv.org/abs/1506.01186)"
      ]
    },
    {
      "metadata": {
        "id": "5hMzcjCJbH7Y",
        "colab_type": "code",
        "colab": {}
      },
      "cell_type": "code",
      "source": [
        "def cyclic_lr(base_lr,max_lr,clr_iterations,mode,step_size,scale_fn): \n",
        "    if scale_fn == None:\n",
        "            if mode == 'triangular':\n",
        "                scale_fn = lambda x: 1.\n",
        "                scale_mode = 'cycle'\n",
        "            elif mode == 'triangular2':\n",
        "                scale_fn = lambda x: 1/(2.**(x-1))\n",
        "                scale_mode = 'cycle'\n",
        "            elif mode == 'exp_range':\n",
        "                scale_fn = lambda x: gamma**(x)\n",
        "                scale_mode = 'iterations'\n",
        "    else:\n",
        "            scale_fn = scale_fn\n",
        "    cycle = np.floor(1+clr_iterations/(2*step_size))\n",
        "    x = np.abs(clr_iterations/step_size - 2*cycle + 1)\n",
        "    if scale_mode == 'cycle':\n",
        "       return base_lr + (max_lr-base_lr)*np.maximum(0, (1-x))*scale_fn(cycle)\n",
        "    else:\n",
        "       return base_lr + (max_lr-base_lr)*np.maximum(0, (1-x))*scale_fn(clr_iterations)   \n",
        "    \n",
        "\n",
        "lr = []\n",
        "for i in range(100000): \n",
        "  lr.append(cyclic_lr(1e-5,4.5e-5,i,'triangular',10000,None))\n",
        "\n",
        "\n",
        "#plt.plot(lr)  "
      ],
      "execution_count": 0,
      "outputs": []
    },
    {
      "metadata": {
        "id": "NnflXLC4Wauh",
        "colab_type": "text"
      },
      "cell_type": "markdown",
      "source": [
        "### Training Loop \n"
      ]
    },
    {
      "metadata": {
        "id": "xDIQqD5gTCCO",
        "colab_type": "code",
        "outputId": "4f58ce8c-b252-4521-f19f-d3d5744fc379",
        "colab": {
          "base_uri": "https://localhost:8080/",
          "height": 555
        }
      },
      "cell_type": "code",
      "source": [
        "checkpoint.restore(tf.train.latest_checkpoint(checkpoint_dir))\n",
        "ite =1 \n",
        "global_loss = []\n",
        "for epoch in range(epochs) : \n",
        " \n",
        "    #hidden = encoder.initialize_hidden_state()\n",
        "    sys.stdout.write(\"Epoch: {} \\n\".format(epoch + 1))\n",
        "\n",
        "    start = time.time()\n",
        "    val_loss = 0\n",
        "    total_loss = 0\n",
        "    for (batch, (X, Y)) in enumerate(train_dataset): \n",
        "          loss = 0\n",
        "    \n",
        "          with tf.GradientTape() as tape:\n",
        "\n",
        "              enc_output,enc_hidden = encoder(X)\n",
        "              dec_hidden = enc_hidden\n",
        "              dec_input = tf.expand_dims(Y[:,0],axis=1)\n",
        "              #print(Y.shape)\n",
        "              for t in range(1,Y.shape[1]): \n",
        "\n",
        "                  dec_output,dec_hidden,_ = decoder(dec_input,dec_hidden,enc_output)\n",
        "\n",
        "                  loss += compute_loss(Y[:,t],dec_output)\n",
        "\n",
        "                  dec_input = tf.expand_dims(Y[:,t],axis=1)\n",
        "\n",
        "              batch_loss = loss/batch_size\n",
        "              total_loss += batch_loss\n",
        "\n",
        "              variables = encoder.variables + decoder.variables\n",
        "\n",
        "              gradients = tape.gradient(loss, variables)\n",
        "\n",
        "              optimizer.apply_gradients(zip(gradients, variables))\n",
        "\n",
        "              if(batch%3==0):\n",
        "                sys.stdout.write(\"\\r{}/{} -- Loss {:.4f} -- lr:{} \".format(\n",
        "                                                              batch,N_BATCH,\n",
        "                                                              batch_loss.numpy(),optimizer._lr))\n",
        "                sys.stdout.flush()\n",
        "                \n",
        "                \n",
        "              #lr = cyclic_lr(0.003,0.01,ite,'triangular',8000,None)\n",
        "              global_loss.append(batch_loss)\n",
        "              learning_rate.assign(lr[ite])\n",
        "              ite = ite +1 \n",
        "              \n",
        " \n",
        "    for (batch, (X, Y)) in enumerate(val_dataset): \n",
        "              loss = 0\n",
        "    \n",
        "         \n",
        "\n",
        "              enc_output,enc_hidden = encoder(X)\n",
        "              dec_hidden = enc_hidden\n",
        "              dec_input = tf.expand_dims(Y[:,0],axis=1)\n",
        "              \n",
        "\n",
        "              for t in range(1,Y.shape[1]): \n",
        "\n",
        "                  dec_output,dec_hidden,_ = decoder(dec_input,dec_hidden,enc_output)\n",
        "\n",
        "                  loss += compute_loss(Y[:,t],dec_output)\n",
        "\n",
        "                  dec_input = tf.expand_dims(Y[:,t],axis=1)\n",
        "\n",
        "              batch_loss = loss/batch_size\n",
        "              val_loss += batch_loss\n",
        "\n",
        "                        \n",
        "    # saving (checkpoint) the model each epoch\n",
        "    if (epoch + 1) % 1== 0:\n",
        "      \n",
        "      !rm -r model.zip \n",
        "      !rm -r ./training_checkpoints\n",
        "      checkpoint.save(file_prefix = checkpoint_prefix)\n",
        "      !zip -r -qq model.zip ./training_checkpoints \n",
        "      Drive().fileaction(['model.zip'],'up')\n",
        "      \n",
        "    \n",
        "    print(\"\")\n",
        "    sys.stdout.write(\"\\rLoss: {:.4f} -- Val_loss: {:.4f} \".format(\n",
        "                                                               total_loss / N_BATCH,val_loss/N_VAl))\n",
        "    sys.stdout.flush()\n",
        "   \n",
        "    print('\\nTime taken for 1 epoch {} sec\\n'.format(time.time() - start))\n",
        "\n",
        "    #!nvidia-smi"
      ],
      "execution_count": 0,
      "outputs": [
        {
          "output_type": "stream",
          "text": [
            "Epoch: 1 \n",
            "849/849 -- Loss 0.0118 -- lr:<tf.Variable 'Variable:0' shape=() dtype=float32, numpy=1.29715e-05> Saved 'model.zip' to Drive\n",
            "\n",
            "Loss: 0.0853 -- Val_loss: 0.1350 \n",
            "Time taken for 1 epoch 970.571409702301 sec\n",
            "\n",
            "Epoch: 2 \n",
            "849/849 -- Loss 0.0115 -- lr:<tf.Variable 'Variable:0' shape=() dtype=float32, numpy=1.59465e-05> Saved 'model.zip' to Drive\n",
            "\n",
            "Loss: 0.0850 -- Val_loss: 0.1351 \n",
            "Time taken for 1 epoch 964.1758131980896 sec\n",
            "\n",
            "Epoch: 3 \n",
            "849/849 -- Loss 0.0115 -- lr:<tf.Variable 'Variable:0' shape=() dtype=float32, numpy=1.89215e-05> Saved 'model.zip' to Drive\n",
            "\n",
            "Loss: 0.0850 -- Val_loss: 0.1351 \n",
            "Time taken for 1 epoch 962.2085185050964 sec\n",
            "\n",
            "Epoch: 4 \n",
            "849/849 -- Loss 0.0115 -- lr:<tf.Variable 'Variable:0' shape=() dtype=float32, numpy=2.18965e-05> Saved 'model.zip' to Drive\n",
            "\n",
            "Loss: 0.0849 -- Val_loss: 0.1351 \n",
            "Time taken for 1 epoch 963.1241302490234 sec\n",
            "\n",
            "Epoch: 5 \n",
            "849/849 -- Loss 0.0114 -- lr:<tf.Variable 'Variable:0' shape=() dtype=float32, numpy=2.48715e-05> Saved 'model.zip' to Drive\n",
            "\n",
            "Loss: 0.0849 -- Val_loss: 0.1352 \n",
            "Time taken for 1 epoch 965.8992600440979 sec\n",
            "\n"
          ],
          "name": "stdout"
        }
      ]
    },
    {
      "metadata": {
        "id": "zfIT-E4cWekg",
        "colab_type": "text"
      },
      "cell_type": "markdown",
      "source": [
        "## Evaluate\n"
      ]
    },
    {
      "metadata": {
        "id": "nEyFHwv3jhs8",
        "colab_type": "code",
        "outputId": "a4e6bb91-2ec9-4339-d39d-c54823093065",
        "colab": {
          "base_uri": "https://localhost:8080/",
          "height": 124
        }
      },
      "cell_type": "code",
      "source": [
        "def tokens_to_sentence(tokenizer,tokens): \n",
        "    sen =\"\" \n",
        "    for token in tokens: \n",
        "          word = tokenizer.index_word[token] \n",
        "       \n",
        "          if(word!=\"strr\"& word!='endd'): \n",
        "                sen += \" \"+ word\n",
        "    return sen        \n",
        "def compute_BLEU(seq,ref):\n",
        "    references = [x.strip().split() for x in ref]\n",
        "    #print(list(references))\n",
        "    hypothesis = seq\n",
        "    hypothesis = hypothesis.strip().split() \n",
        "    BLEUscore = nltk.translate.bleu_score.sentence_bleu(references, hypothesis,smoothing_function= nltk.translate.bleu_score.SmoothingFunction().method1) \n",
        "    return BLEUscore\n",
        "\n",
        "test_dataset = tf.data.Dataset.from_tensor_slices((data['eng_data_test'],data['french_data_test']))\n",
        "test_dataset = test_dataset.batch(1)\n",
        "\n",
        "french_tokenizer = data['french_tokenizer']\n",
        "eng_tokenizer = data['eng_tokenizer']\n",
        "\n",
        "sequence_length = 40\n",
        "out_seq_length = 40\n",
        "\n",
        "checkpoint.restore(tf.train.latest_checkpoint(checkpoint_dir))\n",
        "bleu_scores = []\n",
        "for (batch, (X, Y)) in enumerate(test_dataset): \n",
        "                  enc_output,enc_hidden = encoder(X)\n",
        "                  dec_hidden = enc_hidden\n",
        "                  seq = \"strr\"\n",
        "                  source = \"\"\n",
        "                  target = \"\"\n",
        "                  tokens = french_tokenizer.texts_to_sequences([seq])\n",
        "                  pad_tokens = pad_sequences(tokens,sequence_length,padding='post')[:,0]\n",
        "                  dec_input = tf.expand_dims(pad_tokens,axis=1)\n",
        "\n",
        "                  for t in range(1,out_seq_length): \n",
        "\n",
        "                      \n",
        "                      dec_output,dec_hidden,_ = decoder(dec_input,dec_hidden,enc_output)\n",
        "\n",
        "                      top_indices = np.argsort(-dec_output,axis=-1)\n",
        "                      \n",
        "                      #dec_input = \n",
        "                      #print(np.asscalar(Y[:,t].numpy()))\n",
        "                      word = french_tokenizer.index_word[np.asscalar(top_indices[:,0])] \n",
        "                      if(word!=\"endd\"): seq += \" \" + word \n",
        "                      if(np.asscalar(X[:,t].numpy())!=0 ): \n",
        "                        source+= \" \"+ eng_tokenizer.index_word[np.asscalar(X[:,t].numpy())]\n",
        "                      if(np.asscalar(Y[:,t].numpy())!=0 ):   \n",
        "                        target+= \" \"+ french_tokenizer.index_word[np.asscalar(Y[:,t].numpy())]\n",
        "                      if(word!=\"endd\"): dec_input = tf.expand_dims(top_indices[:,0],axis=1)\n",
        "                  \n",
        "                  \n",
        "                  #print(\"source= \",source)    \n",
        "                  #print(\"target= \",target)\n",
        "                  #print(\"translated= \",seq[5:])\n",
        "                  bleu  = compute_BLEU(seq[5:]+\" endd\",[target])\n",
        "\n",
        "                  sys.stdout.write(\"\\rEvaluation Progress: {}/{} -- BLEU SCORE: {:.4f} \".format(\n",
        "                                                               batch,len(data['eng_data_test']),bleu))\n",
        "                  sys.stdout.flush()\n",
        "                  #print(\"BLEU SCORE =\",bleu)\n",
        "                  bleu_scores.append(bleu)\n",
        "\n",
        "                  #print(return_reference(source))\n",
        "print(\"\\nAverage Bleu Score:\" ,np.array(bleu_scores).mean())\n",
        "                  \n",
        "                  \n",
        "\n",
        "#print(french)                      \n",
        "#print(seq)                      \n",
        "\n",
        "\n",
        "                 \n",
        "\n",
        "\n",
        "\n",
        "\n",
        "\n",
        "\n"
      ],
      "execution_count": 0,
      "outputs": [
        {
          "output_type": "stream",
          "text": [
            "WARNING:tensorflow:From /usr/local/lib/python3.6/dist-packages/tensorflow/python/data/ops/iterator_ops.py:532: colocate_with (from tensorflow.python.framework.ops) is deprecated and will be removed in a future version.\n",
            "Instructions for updating:\n",
            "Colocations handled automatically by placer.\n",
            "Evaluation Progress: 13584/13585 -- BLEU SCORE: 0.0309 \n",
            "Average Bleu Score: 0.2663883949708836\n"
          ],
          "name": "stdout"
        }
      ]
    }
  ]
}